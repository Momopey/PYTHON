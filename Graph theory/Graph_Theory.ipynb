{
 "cells": [
  {
   "cell_type": "code",
   "execution_count": 13,
   "metadata": {},
   "outputs": [],
   "source": [
    "from io import BytesIO\n",
    "\n",
    "import cairo\n",
    "import IPython.display"
   ]
  },
  {
   "cell_type": "code",
   "execution_count": 14,
   "metadata": {},
   "outputs": [],
   "source": [
    "from collections import deque\n",
    "import math\n",
    "\n",
    "#Helper functions\n",
    "def add(a,b):\n",
    "    return [a[0]+b[0],a[1]+b[1]];\n",
    "def sub(a,b):\n",
    "    return [a[0]-b[0],a[1]-b[1]];\n",
    "def norm(a):\n",
    "    return pow(pow(a[0],2.0)+pow(a[1],2.0),0.5);\n",
    "\n",
    "\n",
    "def vect_ang(a):\n",
    "    return math.atan2(-a[1],a[0])\n",
    "def vect_angl(ang):\n",
    "    return [math.cos(ang),-math.sin(ang)]\n",
    "def vect_rotate(a,ang):\n",
    "    return [a[1]*math.sin(ang)+a[0]*math.cos(ang),-a[0]*math.sin(ang)+a[1]*math.cos(ang)]\n",
    "def vect_scale(a,s):\n",
    "    return [a[0]*s,a[1]*s]\n",
    "def vect_lerp(a,b,s):\n",
    "    return add(vect_scale(a,1-s),vect_scale(b,s))\n",
    "\n",
    "\n",
    "def arr_shift(a,amt):\n",
    "    amt=amt%len(a)\n",
    "    return a[amt:]+a[0:amt]"
   ]
  },
  {
   "cell_type": "code",
   "execution_count": 15,
   "metadata": {},
   "outputs": [],
   "source": [
    "import networkx as nx\n",
    "import matplotlib.pyplot as plt\n",
    "def expand_graph(G,pos):\n",
    "    H= nx.MultiGraph()\n",
    "    new_pos={}\n",
    "    for n in G.nodes:\n",
    "        print(G[n])\n",
    "        adjs= G[n]\n",
    "        adjList=[]\n",
    "        print(\"n:\",n,\"-------===++===---\")\n",
    "        tot_edges=5.0\n",
    "#         for adj in adjs:\n",
    "#             tot_edges+=G.number_of_edges(n,adj)\n",
    "            \n",
    "        edge_num=0.0\n",
    "        for adj in adjs:\n",
    "            num_edges= G.number_of_edges(n,adj)\n",
    "            diff= sub(pos[adj],pos[n])\n",
    "            diff=vect_scale(diff,1.0/norm(diff))\n",
    "            for i in range(num_edges):\n",
    "                name=str(n)+\":\"+str(adj)+\"-\"+str(i)\n",
    "                H.add_node(name)\n",
    "                rotated=rotate(diff,0.2*( float(i)-float(num_edges-1)/2))\n",
    "                print(\"rotated:\",rotated)\n",
    "                new_pos[name]= add(pos[n],vect_scale(rotated,0.3))\n",
    "                edge_num+=1\n",
    "                \n",
    "            adjList.append(adj)\n",
    "            \n",
    "        print(\"Huh:\",adjList)\n",
    "        adjList=deque(adjList)\n",
    "        for i in range(len(adjList)):\n",
    "            print(\"prev curr:\",adjList[0],\":\",adjList[1])\n",
    "            prev=adjList[0]\n",
    "            curr=adjList[1]\n",
    "            num_edges= G.number_of_edges(n,prev)\n",
    "            H.add_edge(str(n)+\":\"+str(prev)+\"-\"+str(num_edges-1),str(n)+\":\"+str(curr)+\"-\"+str(0))\n",
    "            for i in range(num_edges-1):\n",
    "                H.add_edge(str(n)+\":\"+str(prev)+\"-\"+str(i),str(n)+\":\"+str(prev)+\"-\"+str(i+1))\n",
    "            \n",
    "            adjList.rotate(-1)\n",
    "\n",
    "    \n",
    "#             H.add_edge(str(n)+\":\"+str(prev),str(n)+\":\"+str(curr))\n",
    "        \n",
    "    for e in G.edges:\n",
    "        H.add_edge(str(e[0])+\":\"+str(e[1])+\"-\"+str(e[2]),str(e[1])+\":\"+str(e[0])+\"-\"+str(e[2]))\n",
    "    return H,new_pos\n",
    "        "
   ]
  },
  {
   "cell_type": "code",
   "execution_count": 16,
   "metadata": {},
   "outputs": [],
   "source": [
    "def draw_neat(G,pos=None):\n",
    "    if pos is None:\n",
    "        pos = nx.planar_layout(G)\n",
    "#     print(pos)\n",
    "    ax = plt.gca()\n",
    "    nx.draw_networkx(G, pos,with_labels=True, node_color = 'y', node_size = 100, alpha = 1,font_size=12,font_color=\"b\")\n",
    "    for e in G.edges:\n",
    "        num_edges= G.number_of_edges(e[0],e[1])\n",
    "#         print(num_edges)\n",
    "#         print(\"e:\",e)\n",
    "        shift=0.2*( float(num_edges-1)/2-e[2])\n",
    "        ax.annotate(\"\",\n",
    "                    xy=pos[e[0]], xycoords='data',\n",
    "                    xytext=pos[e[1]], textcoords='data',\n",
    "                    arrowprops=dict(arrowstyle=\"-\", color=\"0.5\",\n",
    "                                    shrinkA=5, shrinkB=5,\n",
    "                                    patchA=None, patchB=None,\n",
    "                                    connectionstyle=\"arc3,rad=rrr\".replace('rrr',str(shift)\n",
    "                                    ),\n",
    "                                    ),\n",
    "                    )\n",
    "    plt.axis('off')\n",
    "    plt.show()"
   ]
  },
  {
   "cell_type": "code",
   "execution_count": 17,
   "metadata": {},
   "outputs": [],
   "source": [
    "class NeatVert:\n",
    "#     value=0\n",
    "#     name=\"\"\n",
    "#     pos=[0,0]\n",
    "#     color=\"b\"\n",
    "#     adj=[]\n",
    "    def __init__(self,value,name,pos):\n",
    "        self.graph=None\n",
    "        self.value=value\n",
    "        self.name=name\n",
    "        self.pos=pos\n",
    "        self.edges_data=[]\n",
    "#         self.edges=[]\n",
    "#         self.edges_direct=[]\n",
    "    def put_edge_with_ang(self,edge,ang):\n",
    "        ang= ang%math.tau\n",
    "        print(\"EDGE:\",str(edge),\"---____----\")\n",
    "        data=EdgeData(edge,edge.get_which(self))\n",
    "        for i,edge_in in reversed(list(enumerate(self.edges_data))):\n",
    "            if(edge_in.edge.get_angle_to(self)<ang):\n",
    "#                 self.edges.insert(i+1,edge);\n",
    "#                 self.edges_direct.insert(i+1,edge.get_which(self))\n",
    "                self.edges_data.insert(i+1,data)\n",
    "                return\n",
    "#         self.edges.insert(0,edge);\n",
    "#         self.edges_direct.insert(0,edge.get_which(self))\n",
    "        self.edges_data.insert(0,data)\n",
    "    def get_edge_data(self,edge):\n",
    "        return ([edge_data.edge for edge_data in self.edges_data if edge_data.edge==edge]+[None])[0]\n",
    "    \n",
    "    def get_edge_data_index(self,edge):\n",
    "        return ([i for i in range(len(self.edges_data)) if self.edges_data[i].edge==edge]+[None])[0]\n",
    "        \n",
    "    def put_edge(self,edge):\n",
    "        which= edge.get_which(self)\n",
    "        self.put_edge_with_ang(edge,edge.get_angle_to(self)) \n",
    "    \n",
    "    def draw(self,ctx,text=True):\n",
    "        x=self.pos[0]\n",
    "        y=self.pos[1]\n",
    "        ctx.set_source_rgba(1, 0.2, 0.2, 1)\n",
    "        ctx.arc(x,y,0.06,0,math.tau)\n",
    "        ctx.fill()\n",
    "        if text:\n",
    "            ctx.set_source_rgba(0,0,0, 1)\n",
    "            ctx.select_font_face(\"Courier\", cairo.FONT_SLANT_NORMAL, \n",
    "            cairo.FONT_WEIGHT_NORMAL)\n",
    "            ctx.set_font_size(0.1*ctx.get_matrix().xx/200)\n",
    "            text=self.name\n",
    "            (_, _, width, height, _, _) = ctx.text_extents(text) \n",
    "            ctx.move_to(x-width/2, y+height/2)\n",
    "            ctx.show_text(text)\n",
    "        \n",
    "        "
   ]
  },
  {
   "cell_type": "code",
   "execution_count": 18,
   "metadata": {},
   "outputs": [],
   "source": [
    "class NeatEdge:\n",
    "    def __init__(self,value_a,value_b):\n",
    "        self.graph=None\n",
    "        self.value_a=value_a\n",
    "        self.value_b=value_b\n",
    "        self.values=[value_a,value_b]\n",
    "        self.vert_a=None\n",
    "        self.vert_b=None\n",
    "        self.verts=[None,None]\n",
    "        self.angle=None\n",
    "        self.left_face=None\n",
    "        self.right_face=None\n",
    "        self.faces=[None,None]\n",
    "    def set_graph(self,graph):\n",
    "        self.graph=graph\n",
    "        self.vert_a=self.graph.vertdict[self.value_a]\n",
    "        self.vert_b=self.graph.vertdict[self.value_b]\n",
    "        self.verts=[self.vert_a,self.vert_b]\n",
    "        \n",
    "    def get_which(self,vert):\n",
    "        if self.value_a==vert.value:\n",
    "            return 0\n",
    "        if self.value_b==vert.value:\n",
    "            return 1\n",
    "        raise ValueError\n",
    "        \n",
    "    def get_other(self,vert):\n",
    "        if self.value_a==vert.value:\n",
    "            return self.value_b\n",
    "        if self.value_b==vert.value:\n",
    "            return self.value_a\n",
    "        raise ValueError    \n",
    "    \n",
    "    def get_which_face(self,face):\n",
    "        if self.left_face==face:\n",
    "            return 0\n",
    "        if self.right_face==face:\n",
    "            return 1\n",
    "        raise ValueError\n",
    "        \n",
    "    def get_other_face(self,face):\n",
    "        if self.left_face==face:\n",
    "            return self.right_face\n",
    "        if self.right_face==face:\n",
    "            return self.left_face\n",
    "        raise ValueError\n",
    "  \n",
    "    \n",
    "    def get_vert(self,direct):\n",
    "        return self.graph.vertdict[self.values[direct]]\n",
    "        \n",
    "    def get_angle(self,direct):\n",
    "        if direct==0:\n",
    "            return self.angle\n",
    "        elif direct==1:\n",
    "            return (self.angle+math.pi)%math.tau\n",
    "    def get_angle_to(self,vert):\n",
    "        return self.get_angle(self.get_which(vert))\n",
    "    def __str__(self):\n",
    "        return \"neatEdge{value_a:\"+str(self.value_a)+\" value_b:\"+str(self.value_b)+\" angle:\"+str(self.angle)+\" }\"\n",
    "    def neat_format(self,direct):\n",
    "        return str(self.values[direct])+\"-\"+str(self.values[not direct])\n",
    "    \n",
    "    def next_edge(self,direct,shift):\n",
    "        vert=self.graph.vertdict[self.values[direct]]\n",
    "#         vert.edges_data.index(vert.get_edge_data(self))\n",
    "        index= (vert.get_edge_data_index(self)+shift)%len(vert.edges_data)\n",
    "        next_edge=vert.edges_data[index].edge\n",
    "        return (next_edge.get_which(vert),next_edge);\n",
    "    \n",
    "    def generate_faces(self):\n",
    "#         left face\n",
    "        if(self.left_face==None):\n",
    "            self.left_face= Face(self.graph,self,0)\n",
    "        if(self.right_face==None):\n",
    "            self.right_face= Face(self.graph,self,1)\n",
    "        self.faces=[self.left_face,self.right_face]\n",
    "    \n",
    "    def draw(self,ctx,width=0.04,colors=(0,0,0,1)):\n",
    "        lerp_mid=vect_lerp(self.vert_a.pos,self.vert_b.pos,0.5)\n",
    "        x, y, x1, y1 = self.vert_a.pos[0], self.vert_a.pos[1], lerp_mid[0], lerp_mid[1]\n",
    "        x2, y2, x3, y3 = lerp_mid[0], lerp_mid[1],self.vert_b.pos[0], self.vert_b.pos[1]\n",
    "        ctx.move_to(x, y)\n",
    "        ctx.curve_to(x1, y1, x2, y2, x3, y3)\n",
    "        ctx.stroke()\n",
    "        ctx.set_source_rgba(*colors)\n",
    "        ctx.set_line_width(width)\n",
    "        ctx.stroke()\n",
    "        \n",
    "        "
   ]
  },
  {
   "cell_type": "code",
   "execution_count": 113,
   "metadata": {},
   "outputs": [],
   "source": [
    "class VertData:\n",
    "    def __init__(self,vert,in_edges,out_edges):\n",
    "        self.vert=vert\n",
    "        self.in_edges=in_edges\n",
    "        self.out_edges=out_edges\n",
    "    def copy(self):\n",
    "        in_edges=[edge for edge in self.in_edges]\n",
    "        out_edges=[edge for edge in self.out_edges]\n",
    "        return VertData(self.vert,in_edges,out_edges)\n",
    "        \n",
    "    def __len__(self):\n",
    "        return len(self.in_edges)+len(self.out_edges)\n",
    "    def get_adj_verts(self):\n",
    "        adj_verts=[]\n",
    "        for edge in self.in_edges+self.out_edges:\n",
    "            adj_verts.append(edge.get_other(self.vert))\n",
    "        return adj_verts\n",
    "    \n",
    "class EdgeData:\n",
    "    def __init__(self,edge,direct):\n",
    "        self.edge=edge\n",
    "        self.direct=direct\n",
    "    def copy(self):\n",
    "        return EdgeData(self.edge,self.direct)\n",
    "    def __str__(self):\n",
    "        return self.edge.neat_format(self.direct)\n",
    "    def format(self):\n",
    "        return self.edge.neat_format(self.direct)\n",
    "        \n",
    "class EdgeSet:\n",
    "    def __init__(self,graph,verts_data,edges_data):\n",
    "        self.graph=graph\n",
    "        self.edges_data=edges_data \n",
    "        self.edges=[edge_data.edge for edge_data in self.edges_data]\n",
    "        #edges may or may not necicarially be cyclic\n",
    "        self.verts_data=verts_data\n",
    "        self.verts_data_dict={}\n",
    "        for vert_data in verts_data:\n",
    "            self.verts_data_dict[vert_data.vert.value]=vert_data\n",
    "#         for i in range(len(verts)):\n",
    "#             vert = verts[i]\n",
    "#             degree=0\n",
    "#             in_edges=[]\n",
    "#             out_edges=[]\n",
    "#             for vert_edge_data in vert.edges_data:\n",
    "#                 vert_edge=vert_edge_data.edge\n",
    "#                 edge_data=self.get_edge_data(vert_edge)\n",
    "#                 if(edge_data!= None):\n",
    "#                     degree+=1\n",
    "#                     if(vert_edge.get_which(vert)==edge_data.direct):\n",
    "#                         out_edges.append(vert_edge)\n",
    "#                     if(vert_edge.get_which(vert)!=edge_data.direct):\n",
    "#                         in_edges.append(vert_edge)\n",
    "#             vert_data=VertData(vert,in_edges,out_edges)\n",
    "#             if(len(vert_data)>0):\n",
    "#                 self.verts_data_dict[vert.value]=vert_data\n",
    "#                 self.verts_data.append(vert_data)\n",
    "    def get_edge_data(self,edge):\n",
    "        return ([edge_data for edge_data in self.edges_data if edge_data.edge==edge]+[None])[0]\n",
    "    \n",
    "    def get_edge_data_index(self,edge):\n",
    "        return ([i for i in range(len(self.edges_data)) if self.edges_data[i].edge==edge]+[None])[0]\n",
    "    \n",
    "    def get_vert_data(self,vert):\n",
    "        return ([vert_data for vert_data in self.verts_data if vert_data.vert==vert]+[None])[0]\n",
    "    \n",
    "    def get_vert_data_index(self,vert):\n",
    "        return ([i for i in range(len(self.verts_data)) if self.verts_data[i].vert==vert]+[None])[0]\n",
    "    def copy(self):\n",
    "        verts_data=[vert_data.copy() for vert_data in self.verts_data] # Shallow copy\n",
    "        edges_data=[edge_data.copy() for edge_data in self.edges_data]\n",
    "        return EdgeSet(self.graph,verts_data,edges_data)\n",
    "    \n",
    "    def merge_data(self,edgeSet):\n",
    "        verts_data=[vert_data.copy() for vert_data in self.verts_data] # Shallow copy\n",
    "        def get_vert_data(vert):\n",
    "            return ([vert_data for vert_data in verts_data if vert_data.vert==vert]+[None])[0]\n",
    "        edges_data=[edge_data.copy() for edge_data in self.edges_data]\n",
    "        def get_edge_data(edge):\n",
    "            return ([edge_data for edge_data in edges_data if edge_data.edge==edge]+[None])[0]\n",
    "        \n",
    "        verts=[vert_data.vert for vert_data in self.verts_data]\n",
    "        edges=[edge_data.edge for edge_data in self.edges_data]\n",
    "        for vert_data in edgeSet.verts_data:\n",
    "            if(not vert_data.vert in verts):\n",
    "                verts_data.append(vert_data.copy()) # Just add all the verts\n",
    "                verts.append(vert_data.vert)\n",
    "                \n",
    "        for edge_data in edgeSet.edges_data:\n",
    "            if(edge_data.edge in edges):\n",
    "                edges_data.remove(get_edge_data(edge_data.edge))\n",
    "                edges.remove(edge_data.edge)\n",
    "            else:\n",
    "                edges_data.append(edge_data)\n",
    "                edges.append(edge_data.edge)\n",
    "        return (self.graph,verts,verts_data,edges_data)\n",
    "    \n",
    "    def merge(self,edgeSet):\n",
    "        graph, verts,verts_data,edges_data=self.merge_data(edgeSet)\n",
    "        return EdgeSet(graph,verts_data,edges_data)\n",
    "    \n",
    "    def __eq__(self,other):\n",
    "#         if not type(self) is type(other):\n",
    "#             return False\n",
    "        if not isinstance(other,EdgeSet):\n",
    "            return False\n",
    "        if self.graph != other.graph:\n",
    "            return False\n",
    "        if len(self.edges) != len(other.edges):\n",
    "            return False\n",
    "        for edge in self.edges:\n",
    "            if not edge in other.edges:\n",
    "#                 print(\"edge \"+str(edge)+\" not in\")\n",
    "                return False\n",
    "        return True\n",
    "    def __str__(self):\n",
    "        name= \"EdgeSet{\"\n",
    "        for edge_data in self.edges_data:\n",
    "            name+=\" \"+str(edge_data)\n",
    "        name+=\"}\"\n",
    "        return name\n",
    "            \n",
    "class CycleSet(EdgeSet):\n",
    "    def __init__(self,graph,verts,edges_data,faces):\n",
    "        self.edges_data=edges_data\n",
    "        verts_data=[]\n",
    "        #generate verts_data\n",
    "        for i in range(len(verts)):\n",
    "            vert = verts[i]\n",
    "            degree=0\n",
    "            in_edges=[]\n",
    "            out_edges=[]\n",
    "            for vert_edge_data in vert.edges_data:\n",
    "                vert_edge=vert_edge_data.edge\n",
    "                edge_data=self.get_edge_data(vert_edge)\n",
    "                if(edge_data!= None):\n",
    "                    degree+=1\n",
    "                    if(vert_edge.get_which(vert)==edge_data.direct):\n",
    "                        out_edges.append(vert_edge)\n",
    "                    if(vert_edge.get_which(vert)!=edge_data.direct):\n",
    "                        in_edges.append(vert_edge)\n",
    "            vert_data=VertData(vert,in_edges,out_edges)\n",
    "            if(len(vert_data)>0):\n",
    "                verts_data.append(vert_data)\n",
    "        super().__init__(graph,verts_data,edges_data)\n",
    "        valid=True\n",
    "        for i in range(len(self.verts_data)):\n",
    "            if len(self.verts_data[i])!=2:\n",
    "                raise ValueError\n",
    "                valid=False\n",
    "                \n",
    "        if faces==None:\n",
    "            #Generate faces\n",
    "            internal_faces=[self.edges_data[0].edge.left_face]\n",
    "            def complete(inter_faces):\n",
    "                all_good=True\n",
    "                for inter_face in inter_faces:\n",
    "                    for edge in inter_face.edges:\n",
    "                        edge_good=False\n",
    "                        if edge in [edge_data.edge for edge_data in self.edges_data]:\n",
    "                            edge_good=True\n",
    "                        else:\n",
    "                            other_face= edge.get_other_face(inter_face)\n",
    "                            if other_face in internal_faces:\n",
    "                                edge_good=True\n",
    "                            else:\n",
    "                                edge_good=False\n",
    "                                inter_faces.append(other_face)\n",
    "                        if not edge_good:\n",
    "                            all_good=False\n",
    "            complete(internal_faces)\n",
    "            faces=self.fix_faces(internal_faces)\n",
    "        self.faces=faces\n",
    "   \n",
    "       \n",
    "    def fix_faces(self,in_faces):\n",
    "        def is_valid():\n",
    "            num_inc=0\n",
    "            for this_inc_face in in_faces:\n",
    "                num_inc+=1\n",
    "            valid=num_inc<= len(self.graph.faces)//2\n",
    "            if len(in_faces)%2==0:\n",
    "                if num_inc ==len(self.graph.faces)//2:\n",
    "                    valid= self.graph.faces[0] in in_faces\n",
    "            return valid\n",
    "        faces=[]\n",
    "        if not is_valid():\n",
    "            for face in self.graph.faces:\n",
    "                if not face in in_faces:\n",
    "                    faces.append(face)\n",
    "        else:\n",
    "            faces= in_faces\n",
    "        return faces\n",
    "    \n",
    "    def gen_independent_cycles_data(self):\n",
    "        copy=self.copy()\n",
    "        cycles_verts=[]\n",
    "#         def num_visited(): # The total number of verts put into the array\n",
    "#             return sum([len(a) for a in cycles_verts])\n",
    "        while len(copy.verts_data)>0:\n",
    "            cycle_verts=[]\n",
    "            start_vert=copy.verts_data[0]\n",
    "            prev_vert=start_vert\n",
    "            curr_vert=copy.verts_data_dict[start_vert.get_adj_verts()[0]]\n",
    "#             print(\"prev_vert:\"+str(prev_vert.vert.value))\n",
    "#             print(\"curr_vert:\"+str(curr_vert.vert.value))\n",
    "            while True:\n",
    "#                 shift moving vert\n",
    "                cycle_verts.append(prev_vert.vert)\n",
    "                \n",
    "                next_vert=None\n",
    "                for adj_vert in curr_vert.get_adj_verts():\n",
    "#                     print(\"Adj_vert:\"+str(adj_vert))\n",
    "                    if(copy.verts_data_dict[adj_vert]!=prev_vert):\n",
    "                        if(next_vert!=None):\n",
    "                            # There should only be 1 adjacent vert that isnt the prev_vert\n",
    "                            raise ValueError\n",
    "                        next_vert=copy.verts_data_dict[adj_vert]\n",
    "                if next_vert==None:\n",
    "                    #There should be 1 and only 1 adj vert that isnt the prev_vert\n",
    "                    raise ValueError\n",
    "                copy.verts_data.remove(prev_vert)\n",
    "                prev_vert=curr_vert\n",
    "                curr_vert=next_vert\n",
    "#                 print(\"--> prev_vert:\"+str(prev_vert.vert.value))\n",
    "#                 print(\"--> curr_vert:\"+str(curr_vert.vert.value))\n",
    "                if(prev_vert==start_vert): # If looped back around\n",
    "                    break\n",
    "            cycles_verts.append(cycle_verts)\n",
    "        return cycles_verts\n",
    "    \n",
    "    def gen_independent_cycles(self):\n",
    "        cycles_verts=self.gen_independent_cycles_data()\n",
    "#         print(str([str(cycle_verts) for cycle_verts in cycles_verts]))\n",
    "        indep_cycles=[]\n",
    "        for cycle_verts in cycles_verts:\n",
    "#             print([str(cycle_vert.value) for cycle_vert in cycle_verts])\n",
    "            indep_cycles.append(EvenCycle(self.graph,[cycle_vert.value for cycle_vert in cycle_verts]))\n",
    "        return indep_cycles\n",
    "    \n",
    "    def merge(self,cycleSet):\n",
    "        faces=[face for face in self.faces]\n",
    "        for face in cycleSet.faces:\n",
    "            if(face in faces):\n",
    "                faces.remove(face)\n",
    "            else:\n",
    "                faces.append(face)\n",
    "        graph, verts,verts_data,edges_data=self.merge_data(cycleSet)\n",
    "        return CycleSet(graph,verts,edges_data,faces)\n",
    "    def copy(self):\n",
    "        verts=[vert_data.vert for vert_data in self.verts_data] # Shallow copy\n",
    "        edges_data=[edge_data.copy() for edge_data in self.edges_data]\n",
    "        faces= self.faces.copy()\n",
    "        return CycleSet(self.graph,verts,edges_data,faces)\n",
    "    def __add__(self,cycleSet):\n",
    "        return self.merge(cycleSet)\n",
    "    \n",
    "    def is_saturated(self):\n",
    "        for vert in self.graph.verts:\n",
    "            if self.get_vert_data(vert)==None:\n",
    "                return False\n",
    "        return True\n",
    "    \n",
    "    def is_covering(self):\n",
    "        saturated= self.is_saturated()\n",
    "        if not saturated:\n",
    "            return False\n",
    "        indep_cycles= self.gen_independent_cycles_data()\n",
    "        for elem in indep_cycles:\n",
    "            if len(elem)%2==1:\n",
    "                return False\n",
    "        return True\n",
    "    \n",
    "    def make_covering(self):\n",
    "        return CoveringCycleSet(self.graph,[vert_data.vert for vert_data in self.verts_data],self.edges_data,self.faces)\n",
    "        \n",
    "    def __str__(self):\n",
    "        name= \"CycleSet{\"\n",
    "        for edge_data in self.edges_data:\n",
    "            name+=\" \"+str(edge_data)\n",
    "        name+=\"|\"\n",
    "        for face in self.faces:\n",
    "            name+=\" \"+str(face)\n",
    "        name+=\":\"\n",
    "        name+= str(len(self.faces))\n",
    "        name+=\"}\"\n",
    "        \n",
    "        return name\n",
    "    \n",
    "    def draw(self,ctx):\n",
    "        for edge_data in self.edges_data:\n",
    "            edge_data.edge.draw(ctx,width=0.06,colors=(0.4,0.4,1,1))\n",
    "        self.edges_data[0].edge.draw(ctx,width=0.06,colors=(0.4,0.4,1,1))\n",
    "        \n",
    "class CoveringCycleSet(CycleSet):\n",
    "    def __init__(self,graph,verts,edges_data,faces):\n",
    "        super().__init__(graph,verts,edges_data,faces)\n",
    "        if not isinstance(self.graph,CubicGraph):\n",
    "            raise ValueError\n",
    "        if not self.is_covering():\n",
    "            raise ValueError\n",
    "        self.neat_cycles=self.gen_independent_cycles()\n",
    "    def __str__(self):\n",
    "        name= \"CoveringCycle{\"\n",
    "        for edge_data in self.edges_data:\n",
    "            name+=\" \"+str(edge_data)\n",
    "        name+=\"|\"\n",
    "        for neat_cycle in self.neat_cycles:\n",
    "            name+=\" \"+str(neat_cycle)\n",
    "        name+=\":\"\n",
    "        name+= str(len(self.neat_cycles))\n",
    "        name+=\"}\"\n",
    "        return name\n",
    "    def get_next_vert(self,curr_vert,prev_vert,shift_parities):\n",
    "        next_vert=None\n",
    "        for adj_vert in curr_vert.get_adj_verts():\n",
    "#                     print(\"Adj_vert:\"+str(adj_vert))\n",
    "                    if(copy.verts_data_dict[adj_vert]!=prev_vert):\n",
    "                        if(next_vert!=None):\n",
    "                            # There should only be 1 adjacent vert that isnt the prev_vert\n",
    "                            raise ValueError\n",
    "                        next_vert=copy.verts_data_dict[adj_vert]\n",
    "        return next_vert\n",
    "    \n",
    "    def get_adjacent_cycles(self,shift_parities):\n",
    "        copy=self.copy()\n",
    "        cycles_verts=[]\n",
    "#         def num_visited(): # The total number of verts put into the array\n",
    "#             return sum([len(a) for a in cycles_verts])\n",
    "        while len(copy.verts_data)>0:\n",
    "            cycle_verts=[]\n",
    "            start_vert=copy.verts_data[0]\n",
    "            prev_vert=start_vert\n",
    "            curr_vert=copy.verts_data_dict[start_vert.get_adj_verts()[0]]\n",
    "#             print(\"prev_vert:\"+str(prev_vert.vert.value))\n",
    "#             print(\"curr_vert:\"+str(curr_vert.vert.value))\n",
    "            while True:\n",
    "#                 shift moving vert\n",
    "                cycle_verts.append(prev_vert.vert)\n",
    "                \n",
    "                next_vert=self.get_next_vert(curr_vert,prev_vert,shift_parites)\n",
    "                \n",
    "                if next_vert==None:\n",
    "                    #There should be 1 and only 1 adj vert that isnt the prev_vert\n",
    "                    raise ValueError\n",
    "                copy.verts_data.remove(prev_vert)\n",
    "                prev_vert=curr_vert\n",
    "                curr_vert=next_vert\n",
    "#                 print(\"--> prev_vert:\"+str(prev_vert.vert.value))\n",
    "#                 print(\"--> curr_vert:\"+str(curr_vert.vert.value))\n",
    "                if(prev_vert==start_vert): # If looped back around\n",
    "                    break\n",
    "            cycles_verts.append(cycle_verts)\n",
    "        \n",
    "        ;\n",
    "#     def get_shift_relative(self, other):\n",
    "#         if other\n",
    "        \n",
    "class NeatCycle(CycleSet):\n",
    "    def __init__(self,graph,vert_values,faces=None):\n",
    "        self.graph= graph\n",
    "        self.verts=[]\n",
    "        self.edges_data=[]\n",
    "        if len(vert_values)>1:\n",
    "            vert_deque= deque(vert_values)\n",
    "            for i in range(len(vert_values)):\n",
    "                prev=vert_deque[0]\n",
    "                curr=vert_deque[1]\n",
    "    #             print(prev)\n",
    "                if(prev in graph.vertdict):\n",
    "                    self.verts.append(graph.vertdict[prev])\n",
    "                else:\n",
    "                    raise ValueError\n",
    "                if(not curr in graph.vertdict):\n",
    "                    raise ValueError\n",
    "                if((prev,curr) in graph.edgedict): \n",
    "                    edge_tween=graph.edgedict[(prev,curr)]\n",
    "                    self.edges_data.append(EdgeData(edge_tween,edge_tween.get_which(graph.vertdict[prev])))\n",
    "                else:\n",
    "                    raise ValueError\n",
    "                vert_deque.rotate(-1)\n",
    "        super().__init__(graph,self.verts,self.edges_data,faces)\n",
    "    def copy(self):\n",
    "        return NeatCycle(self.graph,[vert.value for vert in self.verts],self.faces.copy())\n",
    "    def __str__(self):\n",
    "        name= \"NeatCycle{\"\n",
    "        for edge_data in self.edges_data:\n",
    "            name+=\" \"+str(edge_data)\n",
    "#         name+=\"|\"\n",
    "#         for face in self.faces:\n",
    "#             name+=\" \"+str(face)\n",
    "        name+=\":\"\n",
    "        name+= str(len(self.faces))\n",
    "        name+=\"}\"\n",
    "        return name\n",
    "    def make_even(self):\n",
    "        if len(self.verts)%2!=0:\n",
    "            raise ValueError\n",
    "        self.__class__=EvenCycle\n",
    "        return self\n",
    "class EvenCycle(NeatCycle):\n",
    "    def __init__(self,graph,vert_values,faces=None):\n",
    "        super().__init__(graph,vert_values,faces)\n",
    "        if len(self.verts)%2!=0:\n",
    "            raise ValueError\n",
    "        \n",
    "    def shift(self,amount):\n",
    "        self.verts=arr_shift(self.verts,amount)\n",
    "        self.edges_data=arr_shift(self.edges_data,amount)\n",
    "    def get_shift_amt(self,other):\n",
    "        if other != self:\n",
    "            return None\n",
    "        return other.verts.index(self.verts[0])\n",
    "    \n",
    "    def get_shift_pairity(self,other):\n",
    "        return self.get_shift_amt(other)%2\n",
    "    \n",
    "    def __str__(self):\n",
    "        name= \"EvenCycle{\"\n",
    "        for edge_data in self.edges_data:\n",
    "            name+=\" \"+str(edge_data)\n",
    "#         name+=\"|\"\n",
    "#         for face in self.faces:\n",
    "#             name+=\" \"+str(face)\n",
    "        name+=\":\"\n",
    "        name+= str(len(self.faces))\n",
    "        name+=\"}\"\n",
    "        return name\n",
    "    \n",
    "class EmptyCycle(NeatCycle):\n",
    "    def __init__(self,graph,full=False):\n",
    "        if full:\n",
    "            super().__init__(graph,[],graph.faces)\n",
    "        else:\n",
    "            super().__init__(graph,[],[])\n",
    "        \n",
    "        \n",
    "class Face(NeatCycle):\n",
    "    def __init__(self,graph,edge,facing):# facing- 0-> left, 1 -> right\n",
    "        vert_values=[]\n",
    "        edges=[]\n",
    "        directs=[]\n",
    "        moving_edge=edge\n",
    "        direct=facing\n",
    "        while True:\n",
    "            edges.append(moving_edge)\n",
    "            directs.append(direct)\n",
    "            vert_values.append(moving_edge.values[direct])\n",
    "#                 print(moving_edge.values[direct])\n",
    "#             print(moving_edge.neat_format(direct))\n",
    "#             print(direct)\n",
    "            direct,moving_edge=moving_edge.next_edge(not direct,1)\n",
    "            if moving_edge==edge:\n",
    "                break\n",
    "        super().__init__(graph,vert_values,[self])\n",
    "        for i in range(len(edges)):\n",
    "            if(directs[i]==0):\n",
    "                edges[i].left_face=self\n",
    "            else:\n",
    "                edges[i].right_face=self\n",
    "    def __str__(self):\n",
    "        name= \"Face{\"\n",
    "        for edge_data in self.edges_data:\n",
    "            name+=\" \"+str(edge_data)\n",
    "        name+=\"}\"\n",
    "        return name\n",
    "    \n",
    "#     def __str__(self):\n",
    "#         text=\"neatCycle{\";\n",
    "#         for vert in self.verts:\n",
    "#             text+=\"-\"+str(vert.value)\n",
    "#         text+=\"}\"\n",
    "#         return text\n",
    "    "
   ]
  },
  {
   "cell_type": "code",
   "execution_count": 114,
   "metadata": {},
   "outputs": [],
   "source": [
    "class NeatGraph:\n",
    "#     verts=[]\n",
    "    def __init__(self):\n",
    "        self.verts=[]\n",
    "        self.vertdict={}\n",
    "        self.verts_data=[]\n",
    "        self.faces=[]\n",
    "        self.edges=[]\n",
    "        self.edgedict={}     \n",
    "    def get_edge(self,val_a,val_b):\n",
    "        edge= self.edgedict[(val_a,val_b)]\n",
    "        return edge.get_which(self.vertdict[val_a]),edge\n",
    "    def add_vert(self,vert):\n",
    "        self.graph=self\n",
    "        self.verts.append(vert)\n",
    "        self.vertdict[vert.value]=vert\n",
    "        self.verts_data.append(VertData(vert,[],[]))\n",
    "        \n",
    "    def get_vert_data(self,vert):\n",
    "        return ([vert_data for vert_data in self.verts_data if vert_data.vert==vert]+[None])[0]\n",
    "    \n",
    "    def add_edge(self,edge):\n",
    "        edge.set_graph(self)\n",
    "        self.edges.append(edge)\n",
    "        edge.angle=(vect_ang(sub(self.verts[edge.value_a].pos,self.verts[edge.value_b].pos))+math.tau)%math.tau\n",
    "        self.verts[edge.value_a].put_edge(edge)\n",
    "        self.verts[edge.value_b].put_edge(edge)\n",
    "        self.edgedict[(edge.value_a,edge.value_b)]=edge\n",
    "        self.edgedict[(edge.value_b,edge.value_a)]=edge\n",
    "        self.get_vert_data(edge.vert_a).out_edges.append(edge)\n",
    "        self.get_vert_data(edge.vert_b).in_edges.append(edge)\n",
    "    def add_face(self,face):\n",
    "        if not face in self.faces:\n",
    "            self.faces.append(face)\n",
    "        \n",
    "    def generate_faces(self):\n",
    "        for edge in self.edges:\n",
    "            edge.generate_faces()\n",
    "            self.add_face(edge.left_face)\n",
    "            self.add_face(edge.right_face)\n",
    "            \n",
    "    def cycles_iterator(self): #Generates all the unique cycles on the graph -> generator\n",
    "        # If the faces of self get changed halfway through, its basically fucked\n",
    "        if(len(self.faces)==0):\n",
    "            self.generate_faces()\n",
    "        inc_faces=[False]*len(self.faces)\n",
    "        saved_inc_faces=inc_faces\n",
    "        cycle=EmptyCycle(self)\n",
    "        \n",
    "        def next_cycle():\n",
    "            store_inc_faces=inc_faces.copy()\n",
    "            index_of_first_false=0\n",
    "            while store_inc_faces[index_of_first_false]:\n",
    "                store_inc_faces[index_of_first_false]=False\n",
    "                index_of_first_false+=1\n",
    "                if(index_of_first_false >= len(store_inc_faces)):\n",
    "                    return None\n",
    "                    \n",
    "            if(index_of_first_false < len(store_inc_faces)):\n",
    "                store_inc_faces[index_of_first_false]=True\n",
    "            else:\n",
    "                return None\n",
    "            return store_inc_faces\n",
    "        def cycle_valid(this_inc_faces):\n",
    "            num_inc=0\n",
    "            for this_inc_face in this_inc_faces:\n",
    "                if this_inc_face:\n",
    "                    num_inc+=1\n",
    "            valid=num_inc<= len(self.faces)//2\n",
    "            if len(self.faces)%2==0:\n",
    "                if num_inc ==len(self.faces)//2:\n",
    "#                     print(\"EVEN!\"+str(this_inc_faces[0])+\" /\"+str(num_inc))\n",
    "                    valid= this_inc_faces[0]\n",
    "#             print(str(num_inc)+\"Valid?:\"+str(valid)+\",  \"+str(this_inc_faces))\n",
    "            return valid\n",
    "        \n",
    "        def update_cycle(this_cycle,prev_inc_faces,next_inc_faces):\n",
    "            if( len(prev_inc_faces)!=len(next_inc_faces)):\n",
    "                raise ValueError\n",
    "            for (prev_inc_face,next_inc_face,face_cycle) in zip(prev_inc_faces,next_inc_faces,self.faces):\n",
    "                if prev_inc_face!=next_inc_face:\n",
    "                    #merge with facecycle\n",
    "                    this_cycle=this_cycle+face_cycle\n",
    "            return this_cycle.copy()\n",
    "        \n",
    "        while True:\n",
    "#             print(\"------_____-----|\")\n",
    "            gen_next_inc_faces = next_cycle()\n",
    "            if gen_next_inc_faces == None:\n",
    "                return\n",
    "            inc_faces= gen_next_inc_faces\n",
    "            if not cycle_valid(inc_faces):\n",
    "                continue\n",
    "            #if our current inc_faces is valid, we can yield it\n",
    "            #inc to our next cycl\n",
    "            cycle=update_cycle(cycle,saved_inc_faces,gen_next_inc_faces)\n",
    "            yield cycle.copy()\n",
    "            saved_inc_faces= gen_next_inc_faces.copy()\n",
    "            cycle_faces=[]\n",
    "            for face in self.faces:\n",
    "                if face in cycle.faces:\n",
    "                    cycle_faces.append(True)\n",
    "                else:\n",
    "                    cycle_faces.append(False)\n",
    "#             print(\"::\"+str(cycle_faces)+\"  ,  \"+str(saved_inc_faces))\n",
    "    \n",
    "    def get_nx_graph(self):\n",
    "        G= nx.MultiGraph()\n",
    "        pos={}\n",
    "        for vert in self.verts:\n",
    "            G.add_node(vert.value)\n",
    "            pos[vert.value]=vert.pos\n",
    "        for edge in self.edges:\n",
    "            G.add_edge(edge.value_a,edge.value_b)\n",
    "            \n",
    "        return G,pos\n",
    "    def draw_content(self,ctx,objects=[],text=True):\n",
    "        ctx.set_line_width(0.04)\n",
    "        for edge in self.edges:\n",
    "            edge.draw(ctx)\n",
    "        for obj in objects:\n",
    "            obj.draw(ctx)\n",
    "        for vert in self.verts:\n",
    "            vert.draw(ctx,text)\n",
    "    def draw_graph(self,objects=[],scale=300,text=True):\n",
    "        svgio = BytesIO()\n",
    "        with cairo.SVGSurface(svgio, scale, scale) as surface:\n",
    "            context = cairo.Context(surface)\n",
    "            context.translate(25,25)\n",
    "            context.scale(scale-50, scale-50)\n",
    "            self.draw_content(context,objects,text)\n",
    "#             x, y, x1, y1 = 0.1, 0.5, 0.4, 0.9\n",
    "#             x2, y2, x3, y3 = 0.6, 0.1, 0.9, 0.5\n",
    "#             context.set_source_rgba(0,0,0, 1)\n",
    "#             context.set_line_width(0.04)\n",
    "#             context.move_to(x, y)\n",
    "#             context.curve_to(x1, y1, x2, y2, x3, y3)\n",
    "#             context.stroke()\n",
    "        return IPython.display.SVG(data=svgio.getvalue())"
   ]
  },
  {
   "cell_type": "code",
   "execution_count": 115,
   "metadata": {},
   "outputs": [],
   "source": [
    "class CoveringTriplet:\n",
    "    def __init__(self,cov_cycle_a,cov_cycle_b,cov_cycle_c):\n",
    "        self.cov_cycle_a=cov_cycle_a\n",
    "        self.cov_cycle_b=cov_cycle_b\n",
    "        self.cov_cycle_c=cov_cycle_c\n",
    "        self.cycles=[cov_cycle_a,cov_cycle_b,cov_cycle_c]\n",
    "        \n",
    "class CoveringCycleData:\n",
    "    def __init__(self,covering_cycle):\n",
    "        self.covering_cycle=covering_cycle\n",
    "        self.covering_triplets=[]\n",
    "\n",
    "class CubicGraph(NeatGraph):\n",
    "    def __init__(self):\n",
    "        super().__init__()\n",
    "        self.covering_cycles=[]\n",
    "        self.covering_data=[]\n",
    "        \n",
    "    def get_first_covering(self):\n",
    "        for cycleset in self.cycles_iterator():\n",
    "            if cycleset.is_covering():\n",
    "                return cycleset.make_covering()\n",
    "        return None\n",
    "    \n",
    "    def validate(self):\n",
    "        for vert_data in self.verts_data:\n",
    "            if len(vert_data)!=3:\n",
    "                return False\n",
    "        return True\n",
    "    \n",
    "    def gen_covering_data(self):\n",
    "        if not self.validate():\n",
    "            raise ValueError\n",
    "        first_covering=self.get_first_covering()\n",
    "        self.covering_cycles.append(first_covering)\n",
    "        return first_covering\n",
    "        print(str(first_covering))\n",
    "\n",
    "        "
   ]
  },
  {
   "cell_type": "code",
   "execution_count": 116,
   "metadata": {},
   "outputs": [
    {
     "name": "stdout",
     "output_type": "stream",
     "text": [
      "EDGE: neatEdge{value_a:0 value_b:1 angle:1.5707963267948966 } ---____----\n",
      "EDGE: neatEdge{value_a:0 value_b:1 angle:1.5707963267948966 } ---____----\n",
      "EDGE: neatEdge{value_a:1 value_b:3 angle:3.141592653589793 } ---____----\n",
      "EDGE: neatEdge{value_a:1 value_b:3 angle:3.141592653589793 } ---____----\n",
      "EDGE: neatEdge{value_a:2 value_b:3 angle:1.5707963267948966 } ---____----\n",
      "EDGE: neatEdge{value_a:2 value_b:3 angle:1.5707963267948966 } ---____----\n",
      "EDGE: neatEdge{value_a:0 value_b:2 angle:3.141592653589793 } ---____----\n",
      "EDGE: neatEdge{value_a:0 value_b:2 angle:3.141592653589793 } ---____----\n",
      "EDGE: neatEdge{value_a:4 value_b:5 angle:1.5707963267948966 } ---____----\n",
      "EDGE: neatEdge{value_a:4 value_b:5 angle:1.5707963267948966 } ---____----\n",
      "EDGE: neatEdge{value_a:5 value_b:7 angle:3.141592653589793 } ---____----\n",
      "EDGE: neatEdge{value_a:5 value_b:7 angle:3.141592653589793 } ---____----\n",
      "EDGE: neatEdge{value_a:7 value_b:6 angle:4.71238898038469 } ---____----\n",
      "EDGE: neatEdge{value_a:7 value_b:6 angle:4.71238898038469 } ---____----\n",
      "EDGE: neatEdge{value_a:4 value_b:6 angle:3.141592653589793 } ---____----\n",
      "EDGE: neatEdge{value_a:4 value_b:6 angle:3.141592653589793 } ---____----\n",
      "EDGE: neatEdge{value_a:0 value_b:4 angle:2.356194490192344 } ---____----\n",
      "EDGE: neatEdge{value_a:0 value_b:4 angle:2.356194490192344 } ---____----\n",
      "EDGE: neatEdge{value_a:1 value_b:5 angle:3.926990816987241 } ---____----\n",
      "EDGE: neatEdge{value_a:1 value_b:5 angle:3.926990816987241 } ---____----\n",
      "EDGE: neatEdge{value_a:7 value_b:3 angle:2.356194490192344 } ---____----\n",
      "EDGE: neatEdge{value_a:7 value_b:3 angle:2.356194490192344 } ---____----\n",
      "EDGE: neatEdge{value_a:6 value_b:2 angle:3.9269908169872414 } ---____----\n",
      "EDGE: neatEdge{value_a:6 value_b:2 angle:3.9269908169872414 } ---____----\n"
     ]
    },
    {
     "data": {
      "image/svg+xml": [
       "<svg height=\"300pt\" version=\"1.1\" viewBox=\"0 0 300 300\" width=\"300pt\" xmlns=\"http://www.w3.org/2000/svg\" xmlns:xlink=\"http://www.w3.org/1999/xlink\">\n",
       "<defs>\n",
       "<g>\n",
       "<symbol id=\"glyph0-0\" overflow=\"visible\">\n",
       "<path d=\"M 1.554688 5.523438 L 1.554688 -22.035156 L 17.179688 -22.035156 L 17.179688 5.523438 Z M 3.3125 3.785156 L 15.441406 3.785156 L 15.441406 -20.277344 L 3.3125 -20.277344 Z M 3.3125 3.785156 \" style=\"stroke:none;\"/>\n",
       "</symbol>\n",
       "<symbol id=\"glyph0-1\" overflow=\"visible\">\n",
       "<path d=\"M 9.367188 -17.5625 C 8.199219 -17.5625 7.289062 -16.871094 6.636719 -15.488281 C 5.984375 -14.105469 5.660156 -12.152344 5.660156 -9.628906 C 5.660156 -7.09375 5.988281 -5.132812 6.636719 -3.746094 C 7.289062 -2.359375 8.199219 -1.664062 9.367188 -1.664062 C 10.546875 -1.664062 11.464844 -2.359375 12.117188 -3.746094 C 12.765625 -5.132812 13.09375 -7.09375 13.09375 -9.628906 C 13.09375 -12.152344 12.765625 -14.105469 12.117188 -15.488281 C 11.464844 -16.871094 10.550781 -17.5625 9.367188 -17.5625 Z M 9.367188 0.503906 C 7.457031 0.503906 5.9375 -0.398438 4.8125 -2.203125 C 3.691406 -4.011719 3.128906 -6.484375 3.128906 -9.628906 C 3.128906 -12.761719 3.691406 -15.230469 4.8125 -17.035156 C 5.9375 -18.839844 7.457031 -19.746094 9.367188 -19.746094 C 11.28125 -19.746094 12.800781 -18.839844 13.929688 -17.027344 C 15.058594 -15.21875 15.625 -12.75 15.625 -9.628906 C 15.625 -6.503906 15.058594 -4.035156 13.929688 -2.21875 C 12.800781 -0.402344 11.28125 0.503906 9.367188 0.503906 Z M 9.367188 0.503906 \" style=\"stroke:none;\"/>\n",
       "</symbol>\n",
       "<symbol id=\"glyph0-2\" overflow=\"visible\">\n",
       "<path d=\"M 5.722656 -16.371094 C 5.589844 -16.351562 5.492188 -16.335938 5.425781 -16.328125 C 5.359375 -16.316406 5.300781 -16.3125 5.25 -16.3125 C 4.933594 -16.3125 4.675781 -16.402344 4.476562 -16.578125 C 4.28125 -16.757812 4.179688 -16.992188 4.179688 -17.289062 C 4.179688 -17.53125 4.265625 -17.746094 4.441406 -17.929688 C 4.613281 -18.113281 4.863281 -18.25 5.1875 -18.339844 L 9.71875 -19.5625 C 9.832031 -19.59375 9.941406 -19.613281 10.046875 -19.628906 C 10.15625 -19.644531 10.265625 -19.652344 10.375 -19.652344 C 10.570312 -19.652344 10.722656 -19.5625 10.832031 -19.386719 C 10.945312 -19.207031 11 -18.964844 11 -18.660156 L 11 -2.152344 L 13.441406 -2.152344 C 14.347656 -2.152344 14.921875 -2.078125 15.167969 -1.929688 C 15.410156 -1.78125 15.535156 -1.503906 15.535156 -1.097656 C 15.535156 -0.730469 15.433594 -0.457031 15.226562 -0.273438 C 15.023438 -0.0898438 14.71875 0 14.3125 0 L 5.1875 0 C 4.78125 0 4.476562 -0.0898438 4.273438 -0.273438 C 4.070312 -0.457031 3.96875 -0.734375 3.96875 -1.097656 C 3.96875 -1.503906 4.089844 -1.78125 4.332031 -1.929688 C 4.578125 -2.078125 5.152344 -2.152344 6.058594 -2.152344 L 8.589844 -2.152344 L 8.589844 -17.058594 Z M 5.722656 -16.371094 \" style=\"stroke:none;\"/>\n",
       "</symbol>\n",
       "<symbol id=\"glyph0-3\" overflow=\"visible\">\n",
       "<path d=\"M 4.058594 0 C 3.519531 0 3.121094 -0.109375 2.859375 -0.328125 C 2.601562 -0.546875 2.472656 -0.886719 2.472656 -1.34375 C 2.472656 -2.003906 3.449219 -3.246094 5.402344 -5.066406 L 5.84375 -5.492188 C 6.140625 -5.777344 6.566406 -6.183594 7.125 -6.714844 C 10.644531 -10.03125 12.40625 -12.445312 12.40625 -13.960938 C 12.40625 -15.050781 12.09375 -15.933594 11.476562 -16.609375 C 10.855469 -17.285156 10.050781 -17.625 9.0625 -17.625 C 8.421875 -17.625 7.808594 -17.492188 7.226562 -17.226562 C 6.640625 -16.960938 6.167969 -16.605469 5.8125 -16.160156 C 5.753906 -16.078125 5.65625 -15.941406 5.523438 -15.746094 C 5.148438 -15.066406 4.726562 -14.726562 4.257812 -14.726562 C 3.890625 -14.726562 3.632812 -14.835938 3.480469 -15.058594 C 3.328125 -15.285156 3.25 -15.710938 3.25 -16.34375 C 3.25 -16.707031 3.285156 -16.976562 3.355469 -17.144531 C 3.425781 -17.3125 3.558594 -17.492188 3.753906 -17.683594 C 4.40625 -18.316406 5.210938 -18.816406 6.171875 -19.1875 C 7.132812 -19.558594 8.117188 -19.746094 9.125 -19.746094 C 10.8125 -19.746094 12.226562 -19.199219 13.359375 -18.113281 C 14.492188 -17.023438 15.058594 -15.6875 15.058594 -14.097656 C 15.058594 -12.105469 13.332031 -9.457031 9.871094 -6.148438 C 8.988281 -5.324219 8.3125 -4.679688 7.84375 -4.210938 L 5.964844 -2.410156 L 12.9375 -2.410156 C 12.980469 -2.847656 13.101562 -3.179688 13.296875 -3.410156 C 13.496094 -3.640625 13.761719 -3.753906 14.097656 -3.753906 C 14.433594 -3.753906 14.699219 -3.640625 14.890625 -3.417969 C 15.085938 -3.195312 15.183594 -2.890625 15.183594 -2.503906 C 15.183594 -2.472656 15.175781 -2.417969 15.167969 -2.34375 C 15.15625 -2.265625 15.152344 -2.210938 15.152344 -2.183594 L 15.03125 -1.007812 C 15 -0.691406 14.90625 -0.445312 14.753906 -0.265625 C 14.601562 -0.0898438 14.40625 0 14.160156 0 Z M 4.058594 0 \" style=\"stroke:none;\"/>\n",
       "</symbol>\n",
       "<symbol id=\"glyph0-4\" overflow=\"visible\">\n",
       "<path d=\"M 11.75 -10.5 C 12.941406 -10.171875 13.863281 -9.578125 14.519531 -8.71875 C 15.175781 -7.859375 15.503906 -6.808594 15.503906 -5.570312 C 15.503906 -3.789062 14.871094 -2.332031 13.609375 -1.199219 C 12.347656 -0.0625 10.714844 0.503906 8.710938 0.503906 C 7.164062 0.503906 5.789062 0.207031 4.585938 -0.390625 C 3.378906 -0.984375 2.777344 -1.636719 2.777344 -2.351562 C 2.777344 -2.65625 2.886719 -2.90625 3.105469 -3.105469 C 3.324219 -3.304688 3.589844 -3.402344 3.90625 -3.402344 C 4.078125 -3.402344 4.707031 -3.144531 5.789062 -2.625 C 6.875 -2.105469 7.882812 -1.847656 8.820312 -1.847656 C 10.03125 -1.847656 11.015625 -2.191406 11.773438 -2.882812 C 12.53125 -3.574219 12.910156 -4.472656 12.910156 -5.570312 C 12.910156 -6.476562 12.648438 -7.242188 12.125 -7.867188 C 11.601562 -8.492188 10.878906 -8.890625 9.964844 -9.0625 C 9.691406 -9.113281 9.328125 -9.15625 8.878906 -9.1875 C 8.027344 -9.238281 7.597656 -9.59375 7.597656 -10.253906 C 7.597656 -10.855469 8.015625 -11.203125 8.851562 -11.308594 C 9.175781 -11.335938 9.445312 -11.371094 9.660156 -11.414062 C 10.453125 -11.535156 11.09375 -11.859375 11.582031 -12.390625 C 12.070312 -12.917969 12.3125 -13.558594 12.3125 -14.3125 C 12.3125 -15.277344 12.015625 -16.066406 11.414062 -16.679688 C 10.8125 -17.289062 10.050781 -17.59375 9.125 -17.59375 C 8.269531 -17.59375 7.394531 -17.328125 6.492188 -16.800781 C 5.59375 -16.269531 5.03125 -16.007812 4.804688 -16.007812 C 4.519531 -16.007812 4.285156 -16.097656 4.097656 -16.28125 C 3.910156 -16.464844 3.816406 -16.691406 3.816406 -16.96875 C 3.816406 -17.589844 4.382812 -18.207031 5.523438 -18.820312 C 6.664062 -19.4375 7.925781 -19.746094 9.308594 -19.746094 C 10.894531 -19.746094 12.214844 -19.265625 13.265625 -18.304688 C 14.320312 -17.34375 14.847656 -16.160156 14.847656 -14.753906 C 14.847656 -13.6875 14.59375 -12.808594 14.089844 -12.117188 C 13.585938 -11.425781 12.808594 -10.882812 11.75 -10.5 Z M 11.75 -10.5 \" style=\"stroke:none;\"/>\n",
       "</symbol>\n",
       "<symbol id=\"glyph0-5\" overflow=\"visible\">\n",
       "<path d=\"M 10.652344 -7.035156 L 10.652344 -17.378906 L 4.867188 -7.035156 Z M 9.003906 0 C 8.515625 0 8.183594 -0.078125 8.011719 -0.238281 C 7.839844 -0.394531 7.75 -0.679688 7.75 -1.097656 C 7.75 -1.464844 7.839844 -1.730469 8.019531 -1.898438 C 8.195312 -2.066406 8.484375 -2.152344 8.878906 -2.152344 L 10.652344 -2.152344 L 10.652344 -4.714844 L 3.523438 -4.714844 C 3.269531 -4.714844 3.070312 -4.796875 2.929688 -4.960938 C 2.789062 -5.121094 2.714844 -5.355469 2.714844 -5.660156 L 2.714844 -6.714844 C 2.714844 -7.121094 2.863281 -7.546875 3.160156 -7.996094 C 3.210938 -8.078125 3.25 -8.144531 3.28125 -8.195312 L 9.71875 -19.121094 C 9.863281 -19.375 9.980469 -19.535156 10.070312 -19.609375 C 10.164062 -19.679688 10.285156 -19.714844 10.4375 -19.714844 C 10.5 -19.714844 10.605469 -19.703125 10.757812 -19.683594 C 10.796875 -19.671875 10.839844 -19.664062 10.878906 -19.652344 L 12.4375 -19.410156 C 12.578125 -19.390625 12.691406 -19.308594 12.777344 -19.171875 C 12.863281 -19.035156 12.910156 -18.855469 12.910156 -18.632812 L 12.910156 -7.035156 L 13.6875 -7.035156 C 13.910156 -7.035156 14.082031 -7.125 14.207031 -7.300781 C 14.328125 -7.480469 14.464844 -7.570312 14.617188 -7.570312 C 14.820312 -7.570312 14.996094 -7.492188 15.136719 -7.339844 C 15.277344 -7.1875 15.351562 -7 15.351562 -6.773438 C 15.351562 -6.683594 15.34375 -6.597656 15.335938 -6.523438 C 15.324219 -6.445312 15.304688 -6.367188 15.273438 -6.285156 L 15.152344 -5.660156 C 15.082031 -5.292969 14.976562 -5.046875 14.839844 -4.914062 C 14.703125 -4.78125 14.484375 -4.714844 14.191406 -4.714844 L 12.910156 -4.714844 L 12.910156 -2.152344 L 13.441406 -2.152344 C 14.09375 -2.152344 14.542969 -2.074219 14.785156 -1.914062 C 15.03125 -1.757812 15.152344 -1.484375 15.152344 -1.097656 C 15.152344 -0.730469 15.050781 -0.457031 14.847656 -0.273438 C 14.644531 -0.0898438 14.339844 0 13.929688 0 Z M 9.003906 0 \" style=\"stroke:none;\"/>\n",
       "</symbol>\n",
       "<symbol id=\"glyph0-6\" overflow=\"visible\">\n",
       "<path d=\"M 5.9375 -11.933594 C 6.609375 -12.175781 7.226562 -12.355469 7.796875 -12.472656 C 8.367188 -12.589844 8.910156 -12.648438 9.429688 -12.648438 C 11.210938 -12.648438 12.691406 -12.03125 13.878906 -10.796875 C 15.0625 -9.558594 15.65625 -8.027344 15.65625 -6.195312 C 15.65625 -4.253906 15 -2.648438 13.6875 -1.386719 C 12.375 -0.125 10.695312 0.503906 8.652344 0.503906 C 6.941406 0.503906 5.511719 0.273438 4.355469 -0.191406 C 3.203125 -0.652344 2.625 -1.214844 2.625 -1.875 C 2.625 -2.140625 2.730469 -2.378906 2.945312 -2.585938 C 3.160156 -2.792969 3.40625 -2.898438 3.691406 -2.898438 C 3.804688 -2.898438 4.402344 -2.703125 5.484375 -2.3125 C 6.570312 -1.921875 7.574219 -1.722656 8.5 -1.722656 C 9.863281 -1.722656 10.96875 -2.132812 11.816406 -2.953125 C 12.667969 -3.773438 13.09375 -4.828125 13.09375 -6.117188 C 13.09375 -7.378906 12.691406 -8.429688 11.886719 -9.269531 C 11.082031 -10.109375 10.070312 -10.527344 8.851562 -10.527344 C 7.933594 -10.527344 7.035156 -10.300781 6.15625 -9.84375 C 5.277344 -9.382812 4.746094 -9.15625 4.5625 -9.15625 C 4.257812 -9.15625 4.042969 -9.265625 3.914062 -9.492188 C 3.785156 -9.714844 3.722656 -10.121094 3.722656 -10.710938 L 3.722656 -18.3125 C 3.722656 -18.648438 3.828125 -18.886719 4.035156 -19.035156 C 4.246094 -19.183594 4.609375 -19.257812 5.125 -19.257812 L 12.847656 -19.257812 C 13.335938 -19.257812 13.703125 -19.15625 13.945312 -18.960938 C 14.191406 -18.761719 14.3125 -18.464844 14.3125 -18.066406 C 14.3125 -17.691406 14.1875 -17.398438 13.929688 -17.1875 C 13.675781 -16.980469 13.316406 -16.875 12.847656 -16.875 L 5.9375 -16.875 Z M 5.9375 -11.933594 \" style=\"stroke:none;\"/>\n",
       "</symbol>\n",
       "<symbol id=\"glyph0-7\" overflow=\"visible\">\n",
       "<path d=\"M 6.089844 -5.9375 C 6.089844 -4.683594 6.417969 -3.664062 7.078125 -2.875 C 7.742188 -2.085938 8.589844 -1.695312 9.628906 -1.695312 C 10.605469 -1.695312 11.40625 -2.066406 12.03125 -2.808594 C 12.65625 -3.550781 12.96875 -4.523438 12.96875 -5.722656 C 12.96875 -6.964844 12.648438 -7.96875 12 -8.742188 C 11.355469 -9.515625 10.523438 -9.902344 9.507812 -9.902344 C 8.519531 -9.902344 7.703125 -9.53125 7.058594 -8.789062 C 6.410156 -8.046875 6.089844 -7.09375 6.089844 -5.9375 Z M 5.753906 -9.996094 C 6.300781 -10.707031 6.914062 -11.242188 7.582031 -11.597656 C 8.253906 -11.953125 8.988281 -12.128906 9.78125 -12.128906 C 11.386719 -12.128906 12.753906 -11.527344 13.878906 -10.316406 C 15.003906 -9.105469 15.5625 -7.613281 15.5625 -5.84375 C 15.5625 -3.992188 15.019531 -2.472656 13.929688 -1.28125 C 12.84375 -0.0898438 11.449219 0.503906 9.75 0.503906 C 7.746094 0.503906 6.140625 -0.292969 4.9375 -1.882812 C 3.730469 -3.476562 3.128906 -5.601562 3.128906 -8.253906 C 3.128906 -11.714844 4.019531 -14.492188 5.796875 -16.59375 C 7.578125 -18.695312 9.929688 -19.746094 12.847656 -19.746094 C 13.835938 -19.746094 14.484375 -19.671875 14.800781 -19.53125 C 15.117188 -19.390625 15.273438 -19.121094 15.273438 -18.722656 C 15.273438 -18.070312 14.675781 -17.734375 13.472656 -17.714844 C 12.679688 -17.703125 12.042969 -17.65625 11.566406 -17.5625 C 9.960938 -17.257812 8.652344 -16.453125 7.652344 -15.144531 C 6.648438 -13.835938 6.015625 -12.121094 5.753906 -9.996094 Z M 5.753906 -9.996094 \" style=\"stroke:none;\"/>\n",
       "</symbol>\n",
       "<symbol id=\"glyph0-8\" overflow=\"visible\">\n",
       "<path d=\"M 9.597656 -0.304688 C 9.515625 -0.0625 9.441406 0.0976562 9.367188 0.167969 C 9.296875 0.238281 9.164062 0.273438 8.972656 0.273438 L 7.628906 0.273438 C 7.425781 0.273438 7.265625 0.234375 7.148438 0.152344 C 7.03125 0.0703125 6.972656 -0.0390625 6.972656 -0.183594 C 6.972656 -0.265625 6.980469 -0.34375 6.996094 -0.417969 C 7.011719 -0.496094 7.035156 -0.585938 7.066406 -0.6875 L 13.0625 -16.96875 L 5.308594 -16.96875 C 5.277344 -16.488281 5.171875 -16.136719 4.988281 -15.90625 C 4.804688 -15.679688 4.535156 -15.5625 4.179688 -15.5625 C 3.835938 -15.5625 3.578125 -15.652344 3.410156 -15.824219 C 3.242188 -15.996094 3.160156 -16.265625 3.160156 -16.632812 C 3.160156 -16.734375 3.160156 -16.808594 3.167969 -16.859375 C 3.171875 -16.910156 3.179688 -16.957031 3.1875 -17 L 3.339844 -18.371094 C 3.371094 -18.65625 3.476562 -18.875 3.65625 -19.027344 C 3.832031 -19.179688 4.074219 -19.257812 4.378906 -19.257812 L 14.464844 -19.257812 C 14.761719 -19.257812 14.976562 -19.191406 15.113281 -19.066406 C 15.25 -18.9375 15.320312 -18.738281 15.320312 -18.464844 L 15.320312 -17.945312 C 15.320312 -17.824219 15.292969 -17.660156 15.242188 -17.464844 C 15.191406 -17.265625 15.109375 -17 15 -16.664062 Z M 9.597656 -0.304688 \" style=\"stroke:none;\"/>\n",
       "</symbol>\n",
       "</g>\n",
       "</defs>\n",
       "<g id=\"surface116\">\n",
       "<path d=\"M 0 0 C 0 0.5 0 0.5 0 1 \" style=\"fill:none;stroke-width:0.04;stroke-linecap:butt;stroke-linejoin:miter;stroke:rgb(0%,0%,0%);stroke-opacity:1;stroke-miterlimit:10;\" transform=\"matrix(250,0,0,250,25,25)\"/>\n",
       "<path d=\"M 0 1 C 0.5 1 0.5 1 1 1 \" style=\"fill:none;stroke-width:0.04;stroke-linecap:butt;stroke-linejoin:miter;stroke:rgb(0%,0%,0%);stroke-opacity:1;stroke-miterlimit:10;\" transform=\"matrix(250,0,0,250,25,25)\"/>\n",
       "<path d=\"M 1 0 C 1 0.5 1 0.5 1 1 \" style=\"fill:none;stroke-width:0.04;stroke-linecap:butt;stroke-linejoin:miter;stroke:rgb(0%,0%,0%);stroke-opacity:1;stroke-miterlimit:10;\" transform=\"matrix(250,0,0,250,25,25)\"/>\n",
       "<path d=\"M 0 0 C 0.5 0 0.5 0 1 0 \" style=\"fill:none;stroke-width:0.04;stroke-linecap:butt;stroke-linejoin:miter;stroke:rgb(0%,0%,0%);stroke-opacity:1;stroke-miterlimit:10;\" transform=\"matrix(250,0,0,250,25,25)\"/>\n",
       "<path d=\"M 0.2 0.2 C 0.2 0.5 0.2 0.5 0.2 0.8 \" style=\"fill:none;stroke-width:0.04;stroke-linecap:butt;stroke-linejoin:miter;stroke:rgb(0%,0%,0%);stroke-opacity:1;stroke-miterlimit:10;\" transform=\"matrix(250,0,0,250,25,25)\"/>\n",
       "<path d=\"M 0.2 0.8 C 0.5 0.8 0.5 0.8 0.8 0.8 \" style=\"fill:none;stroke-width:0.04;stroke-linecap:butt;stroke-linejoin:miter;stroke:rgb(0%,0%,0%);stroke-opacity:1;stroke-miterlimit:10;\" transform=\"matrix(250,0,0,250,25,25)\"/>\n",
       "<path d=\"M 0.8 0.8 C 0.8 0.5 0.8 0.5 0.8 0.2 \" style=\"fill:none;stroke-width:0.04;stroke-linecap:butt;stroke-linejoin:miter;stroke:rgb(0%,0%,0%);stroke-opacity:1;stroke-miterlimit:10;\" transform=\"matrix(250,0,0,250,25,25)\"/>\n",
       "<path d=\"M 0.2 0.2 C 0.5 0.2 0.5 0.2 0.8 0.2 \" style=\"fill:none;stroke-width:0.04;stroke-linecap:butt;stroke-linejoin:miter;stroke:rgb(0%,0%,0%);stroke-opacity:1;stroke-miterlimit:10;\" transform=\"matrix(250,0,0,250,25,25)\"/>\n",
       "<path d=\"M 0 0 C 0.1 0.1 0.1 0.1 0.2 0.2 \" style=\"fill:none;stroke-width:0.04;stroke-linecap:butt;stroke-linejoin:miter;stroke:rgb(0%,0%,0%);stroke-opacity:1;stroke-miterlimit:10;\" transform=\"matrix(250,0,0,250,25,25)\"/>\n",
       "<path d=\"M 0 1 C 0.1 0.9 0.1 0.9 0.2 0.8 \" style=\"fill:none;stroke-width:0.04;stroke-linecap:butt;stroke-linejoin:miter;stroke:rgb(0%,0%,0%);stroke-opacity:1;stroke-miterlimit:10;\" transform=\"matrix(250,0,0,250,25,25)\"/>\n",
       "<path d=\"M 0.8 0.8 C 0.9 0.9 0.9 0.9 1 1 \" style=\"fill:none;stroke-width:0.04;stroke-linecap:butt;stroke-linejoin:miter;stroke:rgb(0%,0%,0%);stroke-opacity:1;stroke-miterlimit:10;\" transform=\"matrix(250,0,0,250,25,25)\"/>\n",
       "<path d=\"M 0.8 0.2 C 0.9 0.1 0.9 0.1 1 0 \" style=\"fill:none;stroke-width:0.04;stroke-linecap:butt;stroke-linejoin:miter;stroke:rgb(0%,0%,0%);stroke-opacity:1;stroke-miterlimit:10;\" transform=\"matrix(250,0,0,250,25,25)\"/>\n",
       "<path d=\"M 40 25 C 40 33.285156 33.285156 40 25 40 C 16.714844 40 10 33.285156 10 25 C 10 16.714844 16.714844 10 25 10 C 33.285156 10 40 16.714844 40 25 \" style=\" stroke:none;fill-rule:nonzero;fill:rgb(100%,20%,20%);fill-opacity:1;\"/>\n",
       "<g style=\"fill:rgb(0%,0%,0%);fill-opacity:1;\">\n",
       "  <use x=\"18.75\" xlink:href=\"#glyph0-1\" y=\"35.125\"/>\n",
       "</g>\n",
       "<path d=\"M 37.503906 35.125 L 40 275 C 40 283.285156 33.285156 290 25 290 C 16.714844 290 10 283.285156 10 275 C 10 266.714844 16.714844 260 25 260 C 33.285156 260 40 266.714844 40 275 \" style=\" stroke:none;fill-rule:nonzero;fill:rgb(100%,20%,20%);fill-opacity:1;\"/>\n",
       "<g style=\"fill:rgb(0%,0%,0%);fill-opacity:1;\">\n",
       "  <use x=\"19.21875\" xlink:href=\"#glyph0-2\" y=\"284.828125\"/>\n",
       "</g>\n",
       "<path d=\"M 37.972656 284.828125 L 290 25 C 290 33.285156 283.285156 40 275 40 C 266.714844 40 260 33.285156 260 25 C 260 16.714844 266.714844 10 275 10 C 283.285156 10 290 16.714844 290 25 \" style=\" stroke:none;fill-rule:nonzero;fill:rgb(100%,20%,20%);fill-opacity:1;\"/>\n",
       "<g style=\"fill:rgb(0%,0%,0%);fill-opacity:1;\">\n",
       "  <use x=\"268.644531\" xlink:href=\"#glyph0-3\" y=\"34.871094\"/>\n",
       "</g>\n",
       "<path d=\"M 287.398438 34.871094 L 290 275 C 290 283.285156 283.285156 290 275 290 C 266.714844 290 260 283.285156 260 275 C 260 266.714844 266.714844 260 275 260 C 283.285156 260 290 266.714844 290 275 \" style=\" stroke:none;fill-rule:nonzero;fill:rgb(100%,20%,20%);fill-opacity:1;\"/>\n",
       "<g style=\"fill:rgb(0%,0%,0%);fill-opacity:1;\">\n",
       "  <use x=\"268.636719\" xlink:href=\"#glyph0-4\" y=\"285.125\"/>\n",
       "</g>\n",
       "<path d=\"M 287.390625 285.125 L 90 75 C 90 83.285156 83.285156 90 75 90 C 66.714844 90 60 83.285156 60 75 C 60 66.714844 66.714844 60 75 60 C 83.285156 60 90 66.714844 90 75 \" style=\" stroke:none;fill-rule:nonzero;fill:rgb(100%,20%,20%);fill-opacity:1;\"/>\n",
       "<g style=\"fill:rgb(0%,0%,0%);fill-opacity:1;\">\n",
       "  <use x=\"68.683594\" xlink:href=\"#glyph0-5\" y=\"84.855469\"/>\n",
       "</g>\n",
       "<path d=\"M 87.4375 84.855469 L 90 225 C 90 233.285156 83.285156 240 75 240 C 66.714844 240 60 233.285156 60 225 C 60 216.714844 66.714844 210 75 210 C 83.285156 210 90 216.714844 90 225 \" style=\" stroke:none;fill-rule:nonzero;fill:rgb(100%,20%,20%);fill-opacity:1;\"/>\n",
       "<g style=\"fill:rgb(0%,0%,0%);fill-opacity:1;\">\n",
       "  <use x=\"68.484375\" xlink:href=\"#glyph0-6\" y=\"234.878906\"/>\n",
       "</g>\n",
       "<path d=\"M 87.238281 234.878906 L 240 75 C 240 83.285156 233.285156 90 225 90 C 216.714844 90 210 83.285156 210 75 C 210 66.714844 216.714844 60 225 60 C 233.285156 60 240 66.714844 240 75 \" style=\" stroke:none;fill-rule:nonzero;fill:rgb(100%,20%,20%);fill-opacity:1;\"/>\n",
       "<g style=\"fill:rgb(0%,0%,0%);fill-opacity:1;\">\n",
       "  <use x=\"218.78125\" xlink:href=\"#glyph0-7\" y=\"85.125\"/>\n",
       "</g>\n",
       "<path d=\"M 237.535156 85.125 L 240 225 C 240 233.285156 233.285156 240 225 240 C 216.714844 240 210 233.285156 210 225 C 210 216.714844 216.714844 210 225 210 C 233.285156 210 240 216.714844 240 225 \" style=\" stroke:none;fill-rule:nonzero;fill:rgb(100%,20%,20%);fill-opacity:1;\"/>\n",
       "<g style=\"fill:rgb(0%,0%,0%);fill-opacity:1;\">\n",
       "  <use x=\"218.917969\" xlink:href=\"#glyph0-8\" y=\"234.765625\"/>\n",
       "</g>\n",
       "</g>\n",
       "</svg>"
      ],
      "text/plain": [
       "<IPython.core.display.SVG object>"
      ]
     },
     "execution_count": 116,
     "metadata": {},
     "output_type": "execute_result"
    }
   ],
   "source": [
    "neat= CubicGraph()\n",
    "neat.add_vert(NeatVert(0,\"0\",[0,0]))\n",
    "neat.add_vert(NeatVert(1,\"1\",[0,1]))\n",
    "neat.add_vert(NeatVert(2,\"2\",[1,0]))\n",
    "neat.add_vert(NeatVert(3,\"3\",[1,1]))\n",
    "\n",
    "neat.add_vert(NeatVert(4,\"4\",[0+0.2,0+0.2]))\n",
    "neat.add_vert(NeatVert(5,\"5\",[0+0.2,1-0.2]))\n",
    "neat.add_vert(NeatVert(6,\"6\",[1-0.2,0+0.2]))\n",
    "neat.add_vert(NeatVert(7,\"7\",[1-0.2,1-0.2]))\n",
    "for e in [[0,1],[1,3],[2,3],[0,2],[4,5],[5,7],[7,6],[4,6],[0,4],[1,5],[7,3],[6,2]]:\n",
    "    neat.add_edge(NeatEdge(*e))\n",
    "    \n",
    "cycle_set = neat.gen_covering_data()\n",
    "neat.draw_graph()"
   ]
  },
  {
   "cell_type": "code",
   "execution_count": 117,
   "metadata": {},
   "outputs": [
    {
     "name": "stdout",
     "output_type": "stream",
     "text": [
      "CoveringCycle{ 3-7 7-6 6-2 3-2 1-0 0-4 4-5 5-1| EvenCycle{ 2-6 6-7 7-3 3-2:1} EvenCycle{ 1-5 5-4 4-0 0-1:1}:2}\n"
     ]
    }
   ],
   "source": [
    "covering_set=cycle_set.make_covering()\n",
    "print(str(covering_set))"
   ]
  },
  {
   "cell_type": "code",
   "execution_count": 118,
   "metadata": {},
   "outputs": [
    {
     "data": {
      "image/svg+xml": [
       "<svg height=\"400pt\" version=\"1.1\" viewBox=\"0 0 800 400\" width=\"800pt\" xmlns=\"http://www.w3.org/2000/svg\" xmlns:xlink=\"http://www.w3.org/1999/xlink\">\n",
       "<g id=\"surface121\">\n",
       "<path d=\"M 0 0 C 0 0.5 0 0.5 0 1 \" style=\"fill:none;stroke-width:0.04;stroke-linecap:butt;stroke-linejoin:miter;stroke:rgb(0%,0%,0%);stroke-opacity:1;stroke-miterlimit:10;\" transform=\"matrix(100,0,0,100,25,25)\"/>\n",
       "<path d=\"M 0 1 C 0.5 1 0.5 1 1 1 \" style=\"fill:none;stroke-width:0.04;stroke-linecap:butt;stroke-linejoin:miter;stroke:rgb(0%,0%,0%);stroke-opacity:1;stroke-miterlimit:10;\" transform=\"matrix(100,0,0,100,25,25)\"/>\n",
       "<path d=\"M 1 0 C 1 0.5 1 0.5 1 1 \" style=\"fill:none;stroke-width:0.04;stroke-linecap:butt;stroke-linejoin:miter;stroke:rgb(0%,0%,0%);stroke-opacity:1;stroke-miterlimit:10;\" transform=\"matrix(100,0,0,100,25,25)\"/>\n",
       "<path d=\"M 0 0 C 0.5 0 0.5 0 1 0 \" style=\"fill:none;stroke-width:0.04;stroke-linecap:butt;stroke-linejoin:miter;stroke:rgb(0%,0%,0%);stroke-opacity:1;stroke-miterlimit:10;\" transform=\"matrix(100,0,0,100,25,25)\"/>\n",
       "<path d=\"M 0.2 0.2 C 0.2 0.5 0.2 0.5 0.2 0.8 \" style=\"fill:none;stroke-width:0.04;stroke-linecap:butt;stroke-linejoin:miter;stroke:rgb(0%,0%,0%);stroke-opacity:1;stroke-miterlimit:10;\" transform=\"matrix(100,0,0,100,25,25)\"/>\n",
       "<path d=\"M 0.2 0.8 C 0.5 0.8 0.5 0.8 0.8 0.8 \" style=\"fill:none;stroke-width:0.04;stroke-linecap:butt;stroke-linejoin:miter;stroke:rgb(0%,0%,0%);stroke-opacity:1;stroke-miterlimit:10;\" transform=\"matrix(100,0,0,100,25,25)\"/>\n",
       "<path d=\"M 0.8 0.8 C 0.8 0.5 0.8 0.5 0.8 0.2 \" style=\"fill:none;stroke-width:0.04;stroke-linecap:butt;stroke-linejoin:miter;stroke:rgb(0%,0%,0%);stroke-opacity:1;stroke-miterlimit:10;\" transform=\"matrix(100,0,0,100,25,25)\"/>\n",
       "<path d=\"M 0.2 0.2 C 0.5 0.2 0.5 0.2 0.8 0.2 \" style=\"fill:none;stroke-width:0.04;stroke-linecap:butt;stroke-linejoin:miter;stroke:rgb(0%,0%,0%);stroke-opacity:1;stroke-miterlimit:10;\" transform=\"matrix(100,0,0,100,25,25)\"/>\n",
       "<path d=\"M 0 0 C 0.1 0.1 0.1 0.1 0.2 0.2 \" style=\"fill:none;stroke-width:0.04;stroke-linecap:butt;stroke-linejoin:miter;stroke:rgb(0%,0%,0%);stroke-opacity:1;stroke-miterlimit:10;\" transform=\"matrix(100,0,0,100,25,25)\"/>\n",
       "<path d=\"M 0 1 C 0.1 0.9 0.1 0.9 0.2 0.8 \" style=\"fill:none;stroke-width:0.04;stroke-linecap:butt;stroke-linejoin:miter;stroke:rgb(0%,0%,0%);stroke-opacity:1;stroke-miterlimit:10;\" transform=\"matrix(100,0,0,100,25,25)\"/>\n",
       "<path d=\"M 0.8 0.8 C 0.9 0.9 0.9 0.9 1 1 \" style=\"fill:none;stroke-width:0.04;stroke-linecap:butt;stroke-linejoin:miter;stroke:rgb(0%,0%,0%);stroke-opacity:1;stroke-miterlimit:10;\" transform=\"matrix(100,0,0,100,25,25)\"/>\n",
       "<path d=\"M 0.8 0.2 C 0.9 0.1 0.9 0.1 1 0 \" style=\"fill:none;stroke-width:0.04;stroke-linecap:butt;stroke-linejoin:miter;stroke:rgb(0%,0%,0%);stroke-opacity:1;stroke-miterlimit:10;\" transform=\"matrix(100,0,0,100,25,25)\"/>\n",
       "<path d=\"M 0.8 0.8 C 0.9 0.9 0.9 0.9 1 1 \" style=\"fill:none;stroke-width:0.04;stroke-linecap:butt;stroke-linejoin:miter;stroke:rgb(0%,0%,0%);stroke-opacity:1;stroke-miterlimit:10;\" transform=\"matrix(100,0,0,100,25,25)\"/>\n",
       "<path d=\"M 0.8 0.8 C 0.8 0.5 0.8 0.5 0.8 0.2 \" style=\"fill:none;stroke-width:0.06;stroke-linecap:butt;stroke-linejoin:miter;stroke:rgb(40%,40%,100%);stroke-opacity:1;stroke-miterlimit:10;\" transform=\"matrix(100,0,0,100,25,25)\"/>\n",
       "<path d=\"M 0.8 0.2 C 0.9 0.1 0.9 0.1 1 0 \" style=\"fill:none;stroke-width:0.06;stroke-linecap:butt;stroke-linejoin:miter;stroke:rgb(40%,40%,100%);stroke-opacity:1;stroke-miterlimit:10;\" transform=\"matrix(100,0,0,100,25,25)\"/>\n",
       "<path d=\"M 1 0 C 1 0.5 1 0.5 1 1 \" style=\"fill:none;stroke-width:0.06;stroke-linecap:butt;stroke-linejoin:miter;stroke:rgb(40%,40%,100%);stroke-opacity:1;stroke-miterlimit:10;\" transform=\"matrix(100,0,0,100,25,25)\"/>\n",
       "<path d=\"M 0 0 C 0 0.5 0 0.5 0 1 \" style=\"fill:none;stroke-width:0.06;stroke-linecap:butt;stroke-linejoin:miter;stroke:rgb(40%,40%,100%);stroke-opacity:1;stroke-miterlimit:10;\" transform=\"matrix(100,0,0,100,25,25)\"/>\n",
       "<path d=\"M 0 0 C 0.1 0.1 0.1 0.1 0.2 0.2 \" style=\"fill:none;stroke-width:0.06;stroke-linecap:butt;stroke-linejoin:miter;stroke:rgb(40%,40%,100%);stroke-opacity:1;stroke-miterlimit:10;\" transform=\"matrix(100,0,0,100,25,25)\"/>\n",
       "<path d=\"M 0.2 0.2 C 0.2 0.5 0.2 0.5 0.2 0.8 \" style=\"fill:none;stroke-width:0.06;stroke-linecap:butt;stroke-linejoin:miter;stroke:rgb(40%,40%,100%);stroke-opacity:1;stroke-miterlimit:10;\" transform=\"matrix(100,0,0,100,25,25)\"/>\n",
       "<path d=\"M 0 1 C 0.1 0.9 0.1 0.9 0.2 0.8 \" style=\"fill:none;stroke-width:0.06;stroke-linecap:butt;stroke-linejoin:miter;stroke:rgb(40%,40%,100%);stroke-opacity:1;stroke-miterlimit:10;\" transform=\"matrix(100,0,0,100,25,25)\"/>\n",
       "<path d=\"M 0.8 0.8 C 0.9 0.9 0.9 0.9 1 1 \" style=\"fill:none;stroke-width:0.06;stroke-linecap:butt;stroke-linejoin:miter;stroke:rgb(40%,40%,100%);stroke-opacity:1;stroke-miterlimit:10;\" transform=\"matrix(100,0,0,100,25,25)\"/>\n",
       "<path d=\"M 31 25 C 31 28.3125 28.3125 31 25 31 C 21.6875 31 19 28.3125 19 25 C 19 21.6875 21.6875 19 25 19 C 28.3125 19 31 21.6875 31 25 \" style=\" stroke:none;fill-rule:nonzero;fill:rgb(100%,20%,20%);fill-opacity:1;\"/>\n",
       "<path d=\"M 31 125 C 31 128.3125 28.3125 131 25 131 C 21.6875 131 19 128.3125 19 125 C 19 121.6875 21.6875 119 25 119 C 28.3125 119 31 121.6875 31 125 \" style=\" stroke:none;fill-rule:nonzero;fill:rgb(100%,20%,20%);fill-opacity:1;\"/>\n",
       "<path d=\"M 131 25 C 131 28.3125 128.3125 31 125 31 C 121.6875 31 119 28.3125 119 25 C 119 21.6875 121.6875 19 125 19 C 128.3125 19 131 21.6875 131 25 \" style=\" stroke:none;fill-rule:nonzero;fill:rgb(100%,20%,20%);fill-opacity:1;\"/>\n",
       "<path d=\"M 131 125 C 131 128.3125 128.3125 131 125 131 C 121.6875 131 119 128.3125 119 125 C 119 121.6875 121.6875 119 125 119 C 128.3125 119 131 121.6875 131 125 \" style=\" stroke:none;fill-rule:nonzero;fill:rgb(100%,20%,20%);fill-opacity:1;\"/>\n",
       "<path d=\"M 51 45 C 51 48.3125 48.3125 51 45 51 C 41.6875 51 39 48.3125 39 45 C 39 41.6875 41.6875 39 45 39 C 48.3125 39 51 41.6875 51 45 \" style=\" stroke:none;fill-rule:nonzero;fill:rgb(100%,20%,20%);fill-opacity:1;\"/>\n",
       "<path d=\"M 51 105 C 51 108.3125 48.3125 111 45 111 C 41.6875 111 39 108.3125 39 105 C 39 101.6875 41.6875 99 45 99 C 48.3125 99 51 101.6875 51 105 \" style=\" stroke:none;fill-rule:nonzero;fill:rgb(100%,20%,20%);fill-opacity:1;\"/>\n",
       "<path d=\"M 111 45 C 111 48.3125 108.3125 51 105 51 C 101.6875 51 99 48.3125 99 45 C 99 41.6875 101.6875 39 105 39 C 108.3125 39 111 41.6875 111 45 \" style=\" stroke:none;fill-rule:nonzero;fill:rgb(100%,20%,20%);fill-opacity:1;\"/>\n",
       "<path d=\"M 111 105 C 111 108.3125 108.3125 111 105 111 C 101.6875 111 99 108.3125 99 105 C 99 101.6875 101.6875 99 105 99 C 108.3125 99 111 101.6875 111 105 \" style=\" stroke:none;fill-rule:nonzero;fill:rgb(100%,20%,20%);fill-opacity:1;\"/>\n",
       "</g>\n",
       "</svg>"
      ],
      "text/plain": [
       "<IPython.core.display.SVG object>"
      ]
     },
     "execution_count": 118,
     "metadata": {},
     "output_type": "execute_result"
    }
   ],
   "source": [
    "from ipywidgets import widgets, HBox\n",
    "good_sets=neat.covering_cycles\n",
    "# for cycleset in neat.cycles_iterator():\n",
    "#     if cycleset.is_covering():\n",
    "#         print(cycleset)\n",
    "# #         neat.draw_graph([cycleset])\n",
    "#         good_sets.append(cycleset)\n",
    "\n",
    "# hbox = HBox([neat.draw_graph([good_set],scale=300) for good_set in good_sets])\n",
    "# display(hbox)\n",
    "# display(*[neat.draw_graph([good_set],scale=150,text=False) for good_set in good_sets])\n",
    "scale=150\n",
    "text=False\n",
    "columns=5\n",
    "svgio = BytesIO()\n",
    "with cairo.SVGSurface(svgio, 800, 400) as surface:\n",
    "    context = cairo.Context(surface)\n",
    "    context.translate(25,25)\n",
    "    context.scale(scale-50, scale-50)\n",
    "    for i,good_set in enumerate(good_sets):\n",
    "        context.save()\n",
    "        context.translate((i%columns)*1.3,(i//columns)*1.3)\n",
    "        neat.draw_content(context,[good_set],text)\n",
    "        context.restore()\n",
    "        \n",
    "IPython.display.SVG(data=svgio.getvalue())"
   ]
  },
  {
   "cell_type": "code",
   "execution_count": 122,
   "metadata": {},
   "outputs": [
    {
     "name": "stdout",
     "output_type": "stream",
     "text": [
      "EvenCycle{ 2-0 0-1 1-3 3-2:1}\n",
      "EvenCycle{ 0-1 1-3 3-2 2-0:1}\n",
      "1\n"
     ]
    }
   ],
   "source": [
    "even1=neat.faces[0].copy().make_even();\n",
    "even2=neat.faces[0].copy().make_even();\n",
    "even1.shift(-1)\n",
    "print(even1)\n",
    "print(even2)\n",
    "print(even2.get_shift_pairity(even1))"
   ]
  },
  {
   "cell_type": "code",
   "execution_count": 88,
   "metadata": {},
   "outputs": [
    {
     "name": "stdout",
     "output_type": "stream",
     "text": [
      "NeatCycle{ 6-7 7-3 3-2 2-6:1}\n"
     ]
    }
   ],
   "source": [
    "neat_cycle.shift(1)\n",
    "print(neat_cycle)"
   ]
  },
  {
   "cell_type": "code",
   "execution_count": 90,
   "metadata": {},
   "outputs": [
    {
     "name": "stdout",
     "output_type": "stream",
     "text": [
      "True\n"
     ]
    }
   ],
   "source": [
    "c1= neat.faces[0]\n",
    "c2= neat.faces[0]+neat.faces[1]+neat.faces[1]\n",
    "print(c1==c2)"
   ]
  },
  {
   "cell_type": "code",
   "execution_count": 68,
   "metadata": {},
   "outputs": [
    {
     "data": {
      "text/plain": [
       "__main__.EdgeSet"
      ]
     },
     "execution_count": 68,
     "metadata": {},
     "output_type": "execute_result"
    }
   ],
   "source": [
    "EdgeSet"
   ]
  },
  {
   "cell_type": "code",
   "execution_count": 70,
   "metadata": {},
   "outputs": [
    {
     "data": {
      "text/plain": [
       "True"
      ]
     },
     "execution_count": 70,
     "metadata": {},
     "output_type": "execute_result"
    }
   ],
   "source": [
    "isinstance(c1,EdgeSet)"
   ]
  },
  {
   "cell_type": "code",
   "execution_count": 105,
   "metadata": {},
   "outputs": [
    {
     "name": "stdout",
     "output_type": "stream",
     "text": [
      "Face{ 0-1 1-3 3-2 2-0}\n",
      "neatEdge{value_a:0 value_b:1 angle:1.5707963267948966 }\n",
      "neatEdge{value_a:1 value_b:3 angle:3.141592653589793 }\n",
      "neatEdge{value_a:2 value_b:3 angle:1.5707963267948966 }\n",
      "neatEdge{value_a:0 value_b:2 angle:3.141592653589793 }\n",
      "Face{ 1-0 0-4 4-5 5-1}\n",
      "neatEdge{value_a:0 value_b:1 angle:1.5707963267948966 }\n",
      "neatEdge{value_a:0 value_b:4 angle:2.356194490192344 }\n",
      "neatEdge{value_a:4 value_b:5 angle:1.5707963267948966 }\n",
      "neatEdge{value_a:1 value_b:5 angle:3.926990816987241 }\n",
      "Face{ 3-1 1-5 5-7 7-3}\n",
      "neatEdge{value_a:1 value_b:3 angle:3.141592653589793 }\n",
      "neatEdge{value_a:1 value_b:5 angle:3.926990816987241 }\n",
      "neatEdge{value_a:5 value_b:7 angle:3.141592653589793 }\n",
      "neatEdge{value_a:7 value_b:3 angle:2.356194490192344 }\n",
      "Face{ 2-3 3-7 7-6 6-2}\n",
      "neatEdge{value_a:2 value_b:3 angle:1.5707963267948966 }\n",
      "neatEdge{value_a:7 value_b:3 angle:2.356194490192344 }\n",
      "neatEdge{value_a:7 value_b:6 angle:4.71238898038469 }\n",
      "neatEdge{value_a:6 value_b:2 angle:3.9269908169872414 }\n",
      "Face{ 0-2 2-6 6-4 4-0}\n",
      "neatEdge{value_a:0 value_b:2 angle:3.141592653589793 }\n",
      "neatEdge{value_a:6 value_b:2 angle:3.9269908169872414 }\n",
      "neatEdge{value_a:4 value_b:6 angle:3.141592653589793 }\n",
      "neatEdge{value_a:0 value_b:4 angle:2.356194490192344 }\n",
      "Face{ 5-4 4-6 6-7 7-5}\n",
      "neatEdge{value_a:4 value_b:5 angle:1.5707963267948966 }\n",
      "neatEdge{value_a:4 value_b:6 angle:3.141592653589793 }\n",
      "neatEdge{value_a:7 value_b:6 angle:4.71238898038469 }\n",
      "neatEdge{value_a:5 value_b:7 angle:3.141592653589793 }\n"
     ]
    }
   ],
   "source": [
    "for face in neat.faces:\n",
    "    print(face)\n",
    "    for vert_data in face.verts_data:\n",
    "        print(str(vert_data.out_edges[0])) "
   ]
  },
  {
   "cell_type": "code",
   "execution_count": 19,
   "metadata": {},
   "outputs": [
    {
     "name": "stdout",
     "output_type": "stream",
     "text": [
      "Face: 0-2\n",
      "Left:\n",
      "0\n",
      "2\n",
      "4\n",
      "3\n",
      "Right:\n",
      "0\n",
      "1\n",
      "2\n",
      "CycleSet{ 2-4 4-3 3-0 2-0| Face{ 0-2 2-4 4-3 3-0}}\n"
     ]
    }
   ],
   "source": [
    "# vert=neat.verts[0]\n",
    "# edge=2\n",
    "direct,neat_edge=neat.get_edge(0,2)\n",
    "print(\"Face: \"+neat_edge.neat_format(direct))\n",
    "print(\"Left:\")\n",
    "if(neat_edge.left_face==None):\n",
    "    print(\"NONE\")\n",
    "else:\n",
    "    for vert_value in neat_edge.left_face.verts:\n",
    "        print(vert_value.value)\n",
    "print(\"Right:\")\n",
    "if(neat_edge.right_face==None):\n",
    "    print(\"NONE\")\n",
    "else:\n",
    "    for vert_value in neat_edge.right_face.verts:\n",
    "        print(vert_value.value)\n",
    "        \n",
    "merge=neat_edge.left_face+neat_edge.right_face+neat_edge.right_face\n",
    "print(merge)"
   ]
  },
  {
   "cell_type": "code",
   "execution_count": 20,
   "metadata": {},
   "outputs": [
    {
     "ename": "NameError",
     "evalue": "name 'indep_cycles' is not defined",
     "output_type": "error",
     "traceback": [
      "\u001b[0;31m---------------------------------------------------------------------------\u001b[0m",
      "\u001b[0;31mNameError\u001b[0m                                 Traceback (most recent call last)",
      "\u001b[0;32m<ipython-input-20-7e28ffa63724>\u001b[0m in \u001b[0;36m<module>\u001b[0;34m\u001b[0m\n\u001b[0;32m----> 1\u001b[0;31m \u001b[0;32mfor\u001b[0m \u001b[0mvert\u001b[0m \u001b[0;32min\u001b[0m \u001b[0mindep_cycles\u001b[0m\u001b[0;34m[\u001b[0m\u001b[0;36m0\u001b[0m\u001b[0;34m]\u001b[0m\u001b[0;34m:\u001b[0m\u001b[0;34m\u001b[0m\u001b[0;34m\u001b[0m\u001b[0m\n\u001b[0m\u001b[1;32m      2\u001b[0m     \u001b[0mprint\u001b[0m\u001b[0;34m(\u001b[0m\u001b[0mstr\u001b[0m\u001b[0;34m(\u001b[0m\u001b[0mvert\u001b[0m\u001b[0;34m.\u001b[0m\u001b[0mvalue\u001b[0m\u001b[0;34m)\u001b[0m\u001b[0;34m)\u001b[0m\u001b[0;34m\u001b[0m\u001b[0;34m\u001b[0m\u001b[0m\n",
      "\u001b[0;31mNameError\u001b[0m: name 'indep_cycles' is not defined"
     ]
    }
   ],
   "source": [
    "for vert in indep_cycles[0]:\n",
    "    print(str(vert.value))"
   ]
  },
  {
   "cell_type": "code",
   "execution_count": 21,
   "metadata": {},
   "outputs": [],
   "source": [
    "indep_cycles= merge.gen_independent_cycles()"
   ]
  },
  {
   "cell_type": "code",
   "execution_count": 22,
   "metadata": {},
   "outputs": [
    {
     "ename": "NameError",
     "evalue": "name 'neatCycle' is not defined",
     "output_type": "error",
     "traceback": [
      "\u001b[0;31m---------------------------------------------------------------------------\u001b[0m",
      "\u001b[0;31mNameError\u001b[0m                                 Traceback (most recent call last)",
      "\u001b[0;32m<ipython-input-22-d9e0f92d4103>\u001b[0m in \u001b[0;36m<module>\u001b[0;34m\u001b[0m\n\u001b[0;32m----> 1\u001b[0;31m \u001b[0;32mfor\u001b[0m \u001b[0medge\u001b[0m \u001b[0;32min\u001b[0m \u001b[0mneatCycle\u001b[0m\u001b[0;34m.\u001b[0m\u001b[0medges\u001b[0m\u001b[0;34m:\u001b[0m\u001b[0;34m\u001b[0m\u001b[0;34m\u001b[0m\u001b[0m\n\u001b[0m\u001b[1;32m      2\u001b[0m     \u001b[0mprint\u001b[0m\u001b[0;34m(\u001b[0m\u001b[0medge\u001b[0m\u001b[0;34m)\u001b[0m\u001b[0;34m\u001b[0m\u001b[0;34m\u001b[0m\u001b[0m\n",
      "\u001b[0;31mNameError\u001b[0m: name 'neatCycle' is not defined"
     ]
    }
   ],
   "source": [
    "for edge in neatCycle.edges:\n",
    "    print(edge)"
   ]
  },
  {
   "cell_type": "code",
   "execution_count": 109,
   "metadata": {},
   "outputs": [
    {
     "name": "stdout",
     "output_type": "stream",
     "text": [
      "[0, 1, 2, 3, 4, 5, 6]\n"
     ]
    }
   ],
   "source": [
    "testList=[0,1,2,3,5,6]\n",
    "val=4\n",
    "def putTest(testList,val):\n",
    "    for i,entry in reversed(list(enumerate(testList))):\n",
    "        if(testList[i]<val):        \n",
    "            testList.insert(i+1,val);\n",
    "            return testList\n",
    "    testList.insert(0,val);\n",
    "    return testList\n",
    "print(putTest(testList,val))\n",
    "\n"
   ]
  },
  {
   "cell_type": "code",
   "execution_count": 5,
   "metadata": {},
   "outputs": [
    {
     "name": "stdout",
     "output_type": "stream",
     "text": [
      "1.0\n"
     ]
    },
    {
     "data": {
      "image/svg+xml": [
       "<svg height=\"200pt\" version=\"1.1\" viewBox=\"0 0 200 200\" width=\"200pt\" xmlns=\"http://www.w3.org/2000/svg\" xmlns:xlink=\"http://www.w3.org/1999/xlink\">\n",
       "<defs>\n",
       "<g>\n",
       "<symbol id=\"glyph0-0\" overflow=\"visible\">\n",
       "<path d=\"M 0.417969 0 L 0.417969 -9.324219 L 7.820312 -9.324219 L 7.820312 0 Z M 6.652344 -1.167969 L 6.652344 -8.15625 L 1.585938 -8.15625 L 1.585938 -1.167969 Z M 6.652344 -1.167969 \" style=\"stroke:none;\"/>\n",
       "</symbol>\n",
       "<symbol id=\"glyph0-1\" overflow=\"visible\">\n",
       "<path d=\"M 0.835938 -9.355469 L 1.980469 -9.355469 L 1.980469 -5.878906 C 2.25 -6.222656 2.496094 -6.460938 2.710938 -6.601562 C 3.078125 -6.84375 3.539062 -6.964844 4.085938 -6.964844 C 5.074219 -6.964844 5.742188 -6.617188 6.09375 -5.929688 C 6.285156 -5.550781 6.378906 -5.03125 6.378906 -4.359375 L 6.378906 0 L 5.203125 0 L 5.203125 -4.285156 C 5.203125 -4.785156 5.140625 -5.148438 5.015625 -5.382812 C 4.808594 -5.753906 4.417969 -5.941406 3.847656 -5.941406 C 3.375 -5.941406 2.941406 -5.777344 2.558594 -5.453125 C 2.171875 -5.125 1.980469 -4.511719 1.980469 -3.605469 L 1.980469 0 L 0.835938 0 Z M 0.835938 -9.355469 \" style=\"stroke:none;\"/>\n",
       "</symbol>\n",
       "<symbol id=\"glyph0-2\" overflow=\"visible\">\n",
       "<path d=\"M 3.667969 -6.949219 C 4.152344 -6.949219 4.617188 -6.835938 5.070312 -6.609375 C 5.523438 -6.382812 5.871094 -6.089844 6.105469 -5.730469 C 6.335938 -5.390625 6.488281 -4.988281 6.5625 -4.53125 C 6.632812 -4.21875 6.664062 -3.71875 6.664062 -3.035156 L 1.683594 -3.035156 C 1.703125 -2.34375 1.867188 -1.792969 2.171875 -1.375 C 2.476562 -0.957031 2.949219 -0.75 3.585938 -0.75 C 4.183594 -0.75 4.660156 -0.945312 5.015625 -1.339844 C 5.21875 -1.566406 5.363281 -1.832031 5.445312 -2.132812 L 6.570312 -2.132812 C 6.539062 -1.882812 6.441406 -1.605469 6.273438 -1.296875 C 6.105469 -0.992188 5.921875 -0.742188 5.710938 -0.546875 C 5.367188 -0.207031 4.9375 0.0195312 4.425781 0.140625 C 4.148438 0.207031 3.839844 0.242188 3.492188 0.242188 C 2.644531 0.242188 1.925781 -0.0664062 1.339844 -0.683594 C 0.75 -1.296875 0.457031 -2.160156 0.457031 -3.269531 C 0.457031 -4.359375 0.753906 -5.246094 1.34375 -5.929688 C 1.9375 -6.609375 2.710938 -6.949219 3.667969 -6.949219 Z M 5.492188 -3.941406 C 5.445312 -4.4375 5.335938 -4.832031 5.167969 -5.128906 C 4.855469 -5.679688 4.332031 -5.953125 3.597656 -5.953125 C 3.074219 -5.953125 2.632812 -5.765625 2.277344 -5.386719 C 1.921875 -5.007812 1.734375 -4.527344 1.714844 -3.941406 Z M 5.492188 -3.941406 \" style=\"stroke:none;\"/>\n",
       "</symbol>\n",
       "<symbol id=\"glyph0-3\" overflow=\"visible\">\n",
       "<path d=\"M 0.871094 -9.324219 L 2.011719 -9.324219 L 2.011719 0 L 0.871094 0 Z M 0.871094 -9.324219 \" style=\"stroke:none;\"/>\n",
       "</symbol>\n",
       "<symbol id=\"glyph0-4\" overflow=\"visible\">\n",
       "<path d=\"M 3.535156 -0.734375 C 4.292969 -0.734375 4.8125 -1.023438 5.09375 -1.597656 C 5.375 -2.171875 5.515625 -2.808594 5.515625 -3.511719 C 5.515625 -4.144531 5.414062 -4.660156 5.210938 -5.058594 C 4.890625 -5.683594 4.335938 -6 3.546875 -6 C 2.851562 -6 2.34375 -5.730469 2.023438 -5.199219 C 1.707031 -4.664062 1.546875 -4.023438 1.546875 -3.269531 C 1.546875 -2.546875 1.707031 -1.941406 2.023438 -1.460938 C 2.34375 -0.976562 2.847656 -0.734375 3.535156 -0.734375 Z M 3.578125 -6.996094 C 4.457031 -6.996094 5.195312 -6.703125 5.800781 -6.117188 C 6.40625 -5.535156 6.710938 -4.675781 6.710938 -3.542969 C 6.710938 -2.445312 6.441406 -1.539062 5.910156 -0.824219 C 5.375 -0.109375 4.550781 0.246094 3.429688 0.246094 C 2.492188 0.246094 1.75 -0.0703125 1.199219 -0.703125 C 0.648438 -1.335938 0.375 -2.183594 0.375 -3.25 C 0.375 -4.390625 0.664062 -5.300781 1.242188 -5.980469 C 1.824219 -6.65625 2.601562 -6.996094 3.578125 -6.996094 Z M 3.578125 -6.996094 \" style=\"stroke:none;\"/>\n",
       "</symbol>\n",
       "</g>\n",
       "</defs>\n",
       "<g id=\"surface16\">\n",
       "<path d=\"M 20 100 C 80 180 120 20 180 100 \" style=\"fill:none;stroke-width:8;stroke-linecap:butt;stroke-linejoin:miter;stroke:rgb(0%,0%,0%);stroke-opacity:1;stroke-miterlimit:10;\"/>\n",
       "<path d=\"M 40 100 C 40 111.046875 31.046875 120 20 120 C 8.953125 120 0 111.046875 0 100 C 0 88.953125 8.953125 80 20 80 C 31.046875 80 40 88.953125 40 100 \" style=\" stroke:none;fill-rule:nonzero;fill:rgb(100%,20%,20%);fill-opacity:1;\"/>\n",
       "<g style=\"fill:rgb(0%,0%,0%);fill-opacity:1;\">\n",
       "  <use x=\"20\" xlink:href=\"#glyph0-1\" y=\"100\"/>\n",
       "  <use x=\"27.22998\" xlink:href=\"#glyph0-2\" y=\"100\"/>\n",
       "  <use x=\"34.459961\" xlink:href=\"#glyph0-3\" y=\"100\"/>\n",
       "  <use x=\"37.348145\" xlink:href=\"#glyph0-3\" y=\"100\"/>\n",
       "  <use x=\"40.236328\" xlink:href=\"#glyph0-4\" y=\"100\"/>\n",
       "</g>\n",
       "</g>\n",
       "</svg>"
      ],
      "text/plain": [
       "<IPython.core.display.SVG object>"
      ]
     },
     "execution_count": 5,
     "metadata": {},
     "output_type": "execute_result"
    }
   ],
   "source": [
    "import math\n",
    "svgio = BytesIO()\n",
    "scale=200.0\n",
    "with cairo.SVGSurface(svgio, 200, 200) as surface:\n",
    "    \n",
    "    \n",
    "    # These lines are copied verbatim from the\n",
    "    # pycairo page: https://pycairo.readthedocs.io\n",
    "    context = cairo.Context(surface)\n",
    "#     context.scale(scale, scale)\n",
    "    context.set_line_width(0.04)\n",
    "    x, y, x1, y1 = 0.1, 0.5, 0.4, 0.9\n",
    "    x2, y2, x3, y3 = 0.6, 0.1, 0.9, 0.5\n",
    "    context.set_line_width(0.04*scale)\n",
    "    context.move_to(x*scale, y*scale)\n",
    "    context.curve_to(x1*scale, y1*scale, x2*scale, y2*scale, x3*scale, y3*scale)\n",
    "    context.stroke()\n",
    "    context.set_source_rgba(1, 0.2, 0.2, 1)\n",
    "    context.set_line_width(0.02*scale)\n",
    "    context.stroke()\n",
    "#     context.move_to(x, y)\n",
    "#     context.line_to(x1, y1)\n",
    "#     context.move_to(x2, y2)\n",
    "#     context.line_to(x3, y3)\n",
    "#     context.stroke()\n",
    "    \n",
    "    context.set_source_rgba(1, 0.2, 0.2, 1)\n",
    "    context.arc(x*scale,y*scale,0.1*scale,0,math.tau)\n",
    "    context.fill()\n",
    "    context.set_source_rgba(0,0,0, 1)\n",
    "#     context.select_font_face(\"Courier\", cairo.FONT_SLANT_NORMAL, \n",
    "#         cairo.FONT_WEIGHT_NORMAL)\n",
    "#     font_size=10\n",
    "#     print(font_size)\n",
    "    context.set_font_size(13)\n",
    "    text=\"hello\"\n",
    "    (_, _, width, height, _, _) = context.text_extents(text) \n",
    "    context.move_to(x*scale-width/2, y*scale+height/2)\n",
    "    context.move_to(x*scale,y*scale)\n",
    "    context.show_text(\"hello\")\n",
    "    print(context.get_matrix().xx)\n",
    "    # end of pycairo copy\n",
    "IPython.display.SVG(data=svgio.getvalue())"
   ]
  },
  {
   "cell_type": "code",
   "execution_count": 293,
   "metadata": {},
   "outputs": [
    {
     "data": {
      "text/plain": [
       "NoneType"
      ]
     },
     "execution_count": 293,
     "metadata": {},
     "output_type": "execute_result"
    }
   ],
   "source": [
    "None.__class__"
   ]
  },
  {
   "cell_type": "code",
   "execution_count": 83,
   "metadata": {},
   "outputs": [
    {
     "data": {
      "text/plain": [
       "'neatEdge{value_a:0 value_b:2 degree:1 angle:3.141592653589793 }'"
      ]
     },
     "execution_count": 83,
     "metadata": {},
     "output_type": "execute_result"
    }
   ],
   "source": [
    "str(neat.edgedict[(0,2)])"
   ]
  },
  {
   "cell_type": "code",
   "execution_count": 85,
   "metadata": {},
   "outputs": [
    {
     "data": {
      "text/plain": [
       "9"
      ]
     },
     "execution_count": 85,
     "metadata": {},
     "output_type": "execute_result"
    }
   ],
   "source": [
    "(-1)%10"
   ]
  },
  {
   "cell_type": "code",
   "execution_count": 166,
   "metadata": {},
   "outputs": [
    {
     "data": {
      "text/plain": [
       "2"
      ]
     },
     "execution_count": 166,
     "metadata": {},
     "output_type": "execute_result"
    }
   ],
   "source": [
    "(not 0)+1"
   ]
  },
  {
   "cell_type": "code",
   "execution_count": 385,
   "metadata": {},
   "outputs": [
    {
     "data": {
      "text/plain": [
       "[0, 1]"
      ]
     },
     "execution_count": 385,
     "metadata": {},
     "output_type": "execute_result"
    }
   ],
   "source": [
    "[0]+[1]"
   ]
  },
  {
   "cell_type": "code",
   "execution_count": 433,
   "metadata": {},
   "outputs": [
    {
     "name": "stdout",
     "output_type": "stream",
     "text": [
      "1 2 3 4\n"
     ]
    }
   ],
   "source": [
    "print(*[1,2,3,4])"
   ]
  },
  {
   "cell_type": "code",
   "execution_count": 434,
   "metadata": {},
   "outputs": [
    {
     "name": "stdout",
     "output_type": "stream",
     "text": [
      "1 2 3 4\n"
     ]
    }
   ],
   "source": [
    "print(1,2,3,4)"
   ]
  },
  {
   "cell_type": "code",
   "execution_count": 446,
   "metadata": {},
   "outputs": [],
   "source": [
    "def add(a,b,*argv):\n",
    "    tot=a+b\n",
    "    for val in argv:\n",
    "        tot+=val\n",
    "    return tot"
   ]
  },
  {
   "cell_type": "code",
   "execution_count": 447,
   "metadata": {},
   "outputs": [
    {
     "name": "stdout",
     "output_type": "stream",
     "text": [
      "3\n"
     ]
    },
    {
     "data": {
      "text/plain": [
       "15"
      ]
     },
     "execution_count": 447,
     "metadata": {},
     "output_type": "execute_result"
    }
   ],
   "source": [
    "add(1,2,3,4,5)"
   ]
  },
  {
   "cell_type": "code",
   "execution_count": 21,
   "metadata": {},
   "outputs": [
    {
     "data": {
      "text/plain": [
       "1"
      ]
     },
     "execution_count": 21,
     "metadata": {},
     "output_type": "execute_result"
    }
   ],
   "source": [
    "(1,2,3)[not 1]\n"
   ]
  },
  {
   "cell_type": "code",
   "execution_count": 20,
   "metadata": {},
   "outputs": [
    {
     "data": {
      "text/plain": [
       "True"
      ]
     },
     "execution_count": 20,
     "metadata": {},
     "output_type": "execute_result"
    }
   ],
   "source": [
    "[False,True]==[False,True]"
   ]
  },
  {
   "cell_type": "code",
   "execution_count": 49,
   "metadata": {},
   "outputs": [
    {
     "data": {
      "text/plain": [
       "1"
      ]
     },
     "execution_count": 49,
     "metadata": {},
     "output_type": "execute_result"
    }
   ],
   "source": [
    "math.ceil(0.6)"
   ]
  },
  {
   "cell_type": "code",
   "execution_count": 51,
   "metadata": {},
   "outputs": [
    {
     "data": {
      "text/plain": [
       "2"
      ]
     },
     "execution_count": 51,
     "metadata": {},
     "output_type": "execute_result"
    }
   ],
   "source": [
    "[1,2,3,4,5,6].index(3)"
   ]
  },
  {
   "cell_type": "code",
   "execution_count": 87,
   "metadata": {},
   "outputs": [
    {
     "name": "stdout",
     "output_type": "stream",
     "text": [
      "[5, 6, 1, 2, 4]\n"
     ]
    }
   ],
   "source": [
    "\n",
    "print(shift([1,2,4,5,6],-2))"
   ]
  },
  {
   "cell_type": "code",
   "execution_count": 59,
   "metadata": {},
   "outputs": [
    {
     "data": {
      "text/plain": [
       "[1, 2, 3]"
      ]
     },
     "execution_count": 59,
     "metadata": {},
     "output_type": "execute_result"
    }
   ],
   "source": [
    "[1,2,3].copy()"
   ]
  },
  {
   "cell_type": "code",
   "execution_count": 112,
   "metadata": {},
   "outputs": [
    {
     "data": {
      "text/plain": [
       "True"
      ]
     },
     "execution_count": 112,
     "metadata": {},
     "output_type": "execute_result"
    }
   ],
   "source": [
    "True if 1 else False"
   ]
  },
  {
   "cell_type": "code",
   "execution_count": null,
   "metadata": {},
   "outputs": [],
   "source": []
  },
  {
   "cell_type": "code",
   "execution_count": null,
   "metadata": {},
   "outputs": [],
   "source": []
  }
 ],
 "metadata": {
  "kernelspec": {
   "display_name": "Python 3",
   "language": "python",
   "name": "python3"
  },
  "language_info": {
   "codemirror_mode": {
    "name": "ipython",
    "version": 3
   },
   "file_extension": ".py",
   "mimetype": "text/x-python",
   "name": "python",
   "nbconvert_exporter": "python",
   "pygments_lexer": "ipython3",
   "version": "3.7.4"
  }
 },
 "nbformat": 4,
 "nbformat_minor": 2
}
