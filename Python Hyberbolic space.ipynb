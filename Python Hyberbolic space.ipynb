{
 "cells": [
  {
   "cell_type": "code",
   "execution_count": 11,
   "metadata": {},
   "outputs": [
    {
     "data": {
      "image/svg+xml": [
       "<svg height=\"400pt\" version=\"1.1\" viewBox=\"0 0 800 400\" width=\"800pt\" xmlns=\"http://www.w3.org/2000/svg\" xmlns:xlink=\"http://www.w3.org/1999/xlink\">\n",
       "<g id=\"surface51\">\n",
       "<path d=\"M 400 200 C 400 310.457031 310.457031 400 200 400 C 89.542969 400 0 310.457031 0 200 C 0 89.542969 89.542969 0 200 0 C 310.457031 0 400 89.542969 400 200 \" style=\" stroke:none;fill-rule:nonzero;fill:rgb(100%,20%,20%);fill-opacity:1;\"/>\n",
       "<path d=\"M 0.1 0.5 C 0.4 0.9 0.6 0.1 0.9 0.5 \" style=\"fill:none;stroke-width:0.04;stroke-linecap:butt;stroke-linejoin:miter;stroke:rgb(100%,20%,20%);stroke-opacity:1;stroke-miterlimit:10;\" transform=\"matrix(200,0,0,200,0,0)\"/>\n",
       "<path d=\"M 0.1 0.5 L 0.4 0.9 M 0.6 0.1 L 0.9 0.5 \" style=\"fill:none;stroke-width:0.02;stroke-linecap:butt;stroke-linejoin:miter;stroke:rgb(100%,20%,20%);stroke-opacity:1;stroke-miterlimit:10;\" transform=\"matrix(200,0,0,200,0,0)\"/>\n",
       "</g>\n",
       "</svg>"
      ],
      "text/plain": [
       "<IPython.core.display.SVG object>"
      ]
     },
     "execution_count": 11,
     "metadata": {},
     "output_type": "execute_result"
    }
   ],
   "source": [
    "from io import BytesIO\n",
    "\n",
    "import cairo\n",
    "import IPython.display\n",
    "import math\n",
    "\n",
    "svgio = BytesIO()\n",
    "with cairo.SVGSurface(svgio, 800, 400) as surface:\n",
    "    context = cairo.Context(surface)\n",
    "    x, y, x1, y1 = 0.1, 0.5, 0.4, 0.9\n",
    "    x2, y2, x3, y3 = 0.6, 0.1, 0.9, 0.5\n",
    "    context.scale(200, 200)\n",
    "    context.set_source_rgba(1, 0.2, 0.2, 1)\n",
    "    context.arc(1, 1, 1, 0, 2*math.pi)\n",
    "    context.fill()\n",
    "    context.set_line_width(0.04)\n",
    "    context.move_to(x, y)\n",
    "    context.curve_to(x1, y1, x2, y2, x3, y3)\n",
    "    context.stroke()\n",
    "    \n",
    "    context.set_line_width(0.02)\n",
    "    context.move_to(x, y)\n",
    "    context.line_to(x1, y1)\n",
    "    context.move_to(x2, y2)\n",
    "    context.line_to(x3, y3)\n",
    "    context.stroke()\n",
    "    \n",
    "    \n",
    "IPython.display.SVG(data=svgio.getvalue())"
   ]
  },
  {
   "cell_type": "code",
   "execution_count": null,
   "metadata": {},
   "outputs": [],
   "source": []
  }
 ],
 "metadata": {
  "kernelspec": {
   "display_name": "Python 3",
   "language": "python",
   "name": "python3"
  },
  "language_info": {
   "codemirror_mode": {
    "name": "ipython",
    "version": 3
   },
   "file_extension": ".py",
   "mimetype": "text/x-python",
   "name": "python",
   "nbconvert_exporter": "python",
   "pygments_lexer": "ipython3",
   "version": "3.7.4"
  }
 },
 "nbformat": 4,
 "nbformat_minor": 2
}
