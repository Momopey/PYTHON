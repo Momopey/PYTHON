{
 "cells": [
  {
   "cell_type": "code",
   "execution_count": 235,
   "metadata": {},
   "outputs": [],
   "source": [
    "import numpy as np\n",
    "def solution(m):\n",
    "    m = np.rint(np.array(m)).astype(int)\n",
    "    size=m.shape[0]\n",
    "    numTermStates=0\n",
    "#     print(m.shape)\n",
    "    for i in range(size):\n",
    "        if not np.any(m[i]):\n",
    "            numTermStates+=1\n",
    "            m[i,i]=1\n",
    "    m_sumAxis=m.sum(axis=1)\n",
    "    \n",
    "    m_denom=np.lcm.reduce(m_sumAxis)\n",
    "#     print(\"M SUM AXIS:\",m_sumAxis,m_denom)\n",
    "#     //\n",
    "#     [:, np.newaxis]\n",
    "\n",
    "    m_numer= m_denom*m/m_sumAxis[:, np.newaxis]\n",
    "    m_numer=np.rint(m_numer)\n",
    "#     print(m_numer,numTermStates)\n",
    "    \n",
    "    q_numer=m_numer[:size-numTermStates,:size-numTermStates]\n",
    "    r_numer=m_numer[:size-numTermStates,size-numTermStates:]\n",
    "    q_denom=r_denom=m_denom\n",
    "    q_numer,q_denom, q_gcd=normalise(q_numer,q_denom)\n",
    "    r_numer,r_denom, r_gcd=normalise(r_numer,r_denom)\n",
    "#     print(\"q:\",q_numer,q_denom)\n",
    "#     print(\"r:\",r_numer,r_denom)\n",
    "    \n",
    "    identity_minus_q_numer= np.identity(q_numer.shape[0])*q_denom-q_numer\n",
    "    \n",
    "#     print(\"i - q:\",identity_minus_q_numer)\n",
    "    N_denom= np.linalg.det(identity_minus_q_numer)\n",
    "    N_denom= round(N_denom)\n",
    "    N_numer= np.linalg.inv(identity_minus_q_numer)*N_denom*q_denom\n",
    "    N_numer= np.rint(N_numer)\n",
    "    N_numer,N_denom, N_gcd=normalise(N_numer,N_denom)\n",
    "    \n",
    "#     print(\"N:\",N_numer,N_denom)\n",
    "    absorb_numer=np.dot(N_numer,r_numer)[0]\n",
    "    absorb_denom=round(N_denom*r_denom)\n",
    "#     print(\"ABSORB NUMER:\",absorb_numer)\n",
    "#     absorb_test_gcd=np.rint(np.append(absorb_numer,absorb_denom)).astype(int)\n",
    "#     print(\"test:\",absorb_test_gcd)\n",
    "    absorb_numer,absorb_denom,absorb_gcd = normalise(absorb_numer,absorb_denom)\n",
    "#     absorb_gcd=np.gcd.reduce(absorb_test_gcd)\n",
    "#     absorb_numer=absorb_numer/absorb_gcd\n",
    "#     absorb_denom=absorb_denom/absorb_gcd\n",
    "#     print(\"absorb numer:\",absorb_numer,absorb_gcd,absorb_denom)\n",
    "    \n",
    "    aslist=np.rint(absorb_numer).astype(int).tolist()\n",
    "    aslist.append(int(round(absorb_denom)))\n",
    "    return aslist\n",
    "        \n",
    "def normalise(numer,denom):\n",
    "#     numer=np.rint(numer)\n",
    "#     denom=round(denom)\n",
    "    test_gcd=np.append(numer,denom).astype(int)\n",
    "    gcd=np.gcd.reduce(test_gcd)\n",
    "    numer=numer/gcd\n",
    "    denom=denom//gcd\n",
    "    return numer,denom,gcd\n",
    "    \n",
    "\n",
    "    \n",
    "    "
   ]
  },
  {
   "cell_type": "code",
   "execution_count": 233,
   "metadata": {},
   "outputs": [
    {
     "data": {
      "text/plain": [
       "(array([64., 30.]), 1, 4)"
      ]
     },
     "execution_count": 233,
     "metadata": {},
     "output_type": "execute_result"
    }
   ],
   "source": [
    "normalise(np.array([256,120]),4)"
   ]
  },
  {
   "cell_type": "code",
   "execution_count": 240,
   "metadata": {},
   "outputs": [
    {
     "name": "stdout",
     "output_type": "stream",
     "text": [
      "(5, 5)\n",
      "[[0.         0.66666667 0.33333333 0.         0.        ]\n",
      " [0.         0.         0.         0.42857143 0.57142857]\n",
      " [0.         0.         1.         0.         0.        ]\n",
      " [0.         0.         0.         1.         0.        ]\n",
      " [0.         0.         0.         0.         1.        ]] 3\n",
      "q: [[0.         0.66666667]\n",
      " [0.         0.        ]]\n",
      "r: [[0.33333333 0.         0.        ]\n",
      " [0.         0.42857143 0.57142857]]\n",
      "[[ 1.         -0.66666667]\n",
      " [ 0.          1.        ]]\n",
      "[[1.         0.66666667]\n",
      " [0.         1.        ]]\n",
      "absorb probrabs: [[0.33333333 0.28571429 0.38095238]\n",
      " [0.         0.42857143 0.57142857]]\n"
     ]
    },
    {
     "data": {
      "text/plain": [
       "[7, 6, 8, 21]"
      ]
     },
     "execution_count": 240,
     "metadata": {},
     "output_type": "execute_result"
    }
   ],
   "source": [
    "solution([[0, 2, 1, 0, 0], [0, 0, 0, 3, 4], [0, 0, 0, 0, 0], [0, 0, 0, 0,0], [0, 0, 0, 0, 0]])a"
   ]
  },
  {
   "cell_type": "code",
   "execution_count": 239,
   "metadata": {},
   "outputs": [
    {
     "name": "stdout",
     "output_type": "stream",
     "text": [
      "(5, 5)\n",
      "[[0.  0.5 0.5 0.  0. ]\n",
      " [0.  0.  0.  0.5 0.5]\n",
      " [0.  0.  1.  0.  0. ]\n",
      " [0.  0.  0.  1.  0. ]\n",
      " [0.  0.  0.  0.  1. ]] 3\n",
      "q: [[0.  0.5]\n",
      " [0.  0. ]]\n",
      "r: [[0.5 0.  0. ]\n",
      " [0.  0.5 0.5]]\n",
      "[[ 1.  -0.5]\n",
      " [ 0.   1. ]]\n",
      "[[1.  0.5]\n",
      " [0.  1. ]]\n",
      "absorb probrabs: [[0.5  0.25 0.25]\n",
      " [0.   0.5  0.5 ]]\n"
     ]
    },
    {
     "data": {
      "text/plain": [
       "[2, 1, 1, 4]"
      ]
     },
     "execution_count": 239,
     "metadata": {},
     "output_type": "execute_result"
    }
   ],
   "source": [
    "solution([[0, 2, 2, 0, 0], [0, 0, 0, 2, 2], [0, 0, 0, 0, 0], [0, 0, 0, 0,0], [0, 0, 0, 0, 0]])"
   ]
  },
  {
   "cell_type": "code",
   "execution_count": 241,
   "metadata": {},
   "outputs": [
    {
     "name": "stdout",
     "output_type": "stream",
     "text": [
      "(4, 4)\n",
      "[[0.5 0.5 0.  0. ]\n",
      " [0.  0.5 0.5 0. ]\n",
      " [0.5 0.  0.  0.5]\n",
      " [0.  0.  0.  1. ]] 1\n",
      "q: [[0.5 0.5 0. ]\n",
      " [0.  0.5 0.5]\n",
      " [0.5 0.  0. ]]\n",
      "r: [[0. ]\n",
      " [0. ]\n",
      " [0.5]]\n",
      "[[ 0.5 -0.5  0. ]\n",
      " [ 0.   0.5 -0.5]\n",
      " [-0.5  0.   1. ]]\n",
      "[[4. 4. 2.]\n",
      " [2. 4. 2.]\n",
      " [2. 2. 2.]]\n",
      "absorb probrabs: [[1.]\n",
      " [1.]\n",
      " [1.]]\n"
     ]
    },
    {
     "data": {
      "text/plain": [
       "[1, 1]"
      ]
     },
     "execution_count": 241,
     "metadata": {},
     "output_type": "execute_result"
    }
   ],
   "source": [
    "solution([[1,1,0,0],[0,1,1,0],[1,0,0,1],[0,0,0,0]])"
   ]
  },
  {
   "cell_type": "code",
   "execution_count": 223,
   "metadata": {},
   "outputs": [
    {
     "name": "stdout",
     "output_type": "stream",
     "text": [
      "(6, 6)\n",
      "M SUM AXIS: [2 9 1 1 1 1] 18\n",
      "[[ 0.  9.  0.  0.  0.  9.]\n",
      " [ 8.  0.  0.  6.  4.  0.]\n",
      " [ 0.  0. 18.  0.  0.  0.]\n",
      " [ 0.  0.  0. 18.  0.  0.]\n",
      " [ 0.  0.  0.  0. 18.  0.]\n",
      " [ 0.  0.  0.  0.  0. 18.]] 4\n",
      "q: [[0. 9.]\n",
      " [8. 0.]] 18.0\n",
      "r: [[0. 0. 0. 9.]\n",
      " [0. 6. 4. 0.]] 18.0\n",
      "i - q: [[18. -9.]\n",
      " [-8. 18.]]\n",
      "N: [[18.  9.]\n",
      " [ 8. 18.]] 14.0\n",
      "ABSORB NUMER: [  0.  54.  36. 162.]\n",
      "test: 18\n",
      "absorb numer: [0. 3. 2. 9.] 18 14.0\n"
     ]
    },
    {
     "data": {
      "text/plain": [
       "[0, 3, 2, 9, 14]"
      ]
     },
     "execution_count": 223,
     "metadata": {},
     "output_type": "execute_result"
    }
   ],
   "source": [
    "solution([[0, 1, 203, 0, 0, 1]\n",
    "          , [20, 0, 100, 3, 2, 0]\n",
    "          , [4, 34, 12, 0, 3, 0]\n",
    "          , [0, 0, 0, 0, 0, 0]\n",
    "          , [0, 0, 0, 0, 0, 0]\n",
    "          , [0, 0, 0, 0, 0, 0]])"
   ]
  },
  {
   "cell_type": "code",
   "execution_count": 140,
   "metadata": {},
   "outputs": [],
   "source": [
    "import numpy as np\n",
    "def solution(m):\n",
    "    m = np.array(m).astype(int)\n",
    "    size=m.shape[0]\n",
    "    numTermStates=0\n",
    "#     print(m.shape)\n",
    "    for i in range(size):\n",
    "        if not np.any(m[i]):\n",
    "            numTermStates+=1\n",
    "            m[i,i]=1\n",
    "    m_sumAxis=m.sum(axis=1)\n",
    "    \n",
    "    m_denom=np.lcm.reduce(m_sumAxis)\n",
    "#     print(\"M SUM AXIS:\",m_sumAxis,m_denom)\n",
    "#     //\n",
    "#     [:, np.newaxis]\n",
    "\n",
    "    m_numer= m_denom*m/m_sumAxis[:, np.newaxis]\n",
    "    m_numer=np.rint(m_numer).astype(int)\n",
    "#     print(m_numer,numTermStates)\n",
    "    \n",
    "    q_numer=m_numer[:size-numTermStates,:size-numTermStates]\n",
    "    r_numer=m_numer[:size-numTermStates,size-numTermStates:]\n",
    "    q_denom=r_denom=m_denom\n",
    "#     print(\"q:\",q_numer,q_denom)\n",
    "#     print(\"r:\",r_numer,r_denom)\n",
    "    \n",
    "    identity_minus_q_numer= np.identity(q_numer.shape[0])*q_denom-q_numer\n",
    "    \n",
    "#     print(\"i - q:\",identity_minus_q_numer)\n",
    "    N_denom= np.linalg.det(identity_minus_q_numer)\n",
    "    N_denom= int(N_denom)\n",
    "    N_numer= np.linalg.inv(identity_minus_q_numer)*N_denom*q_denom\n",
    "    N_numer= N_numer.astype(int)\n",
    "#     print(\"N:\",N_numer,N_denom)\n",
    "    absorb_numer=np.dot(N_numer,r_numer)[0]\n",
    "    absorb_denom=int(N_denom*r_denom)\n",
    "    absorb_numer_gcd=np.gcd.reduce(absorb_numer,absorb_denom)\n",
    "    absorb_numer=absorb_numer/absorb_numer_gcd\n",
    "    absorb_denom=absorb_denom/absorb_numer_gcd\n",
    "    \n",
    "    aslist=absorb_numer.astype(int).tolist()\n",
    "    aslist.append(int(absorb_denom))\n",
    "    return aslist"
   ]
  },
  {
   "cell_type": "code",
   "execution_count": 238,
   "metadata": {},
   "outputs": [],
   "source": [
    "import numpy as np\n",
    "def solution(m):\n",
    "    def nearIntegerArray(m):\n",
    "        return np.all(np.isclose(m,np.rint(m)))\n",
    "    m = np.array(m)\n",
    "    size=m.shape[0]\n",
    "    numTermStates=0\n",
    "    print(m.shape)\n",
    "    for i in range(size):\n",
    "        if not np.any(m[i]):\n",
    "            numTermStates+=1\n",
    "            m[i,i]=1\n",
    "    m_normed= m/m.sum(axis=1)[:, np.newaxis]\n",
    "    print(m_normed,numTermStates)\n",
    "    \n",
    "    q=m_normed[:size-numTermStates,:size-numTermStates]\n",
    "    r=m_normed[:size-numTermStates,size-numTermStates:]\n",
    "    print(\"q:\",q)\n",
    "    print(\"r:\",r)\n",
    "    \n",
    "            \n",
    "    \n",
    "    identity_minus_q= np.identity(q.shape[0])-q\n",
    "    print(identity_minus_q)\n",
    "    N= np.linalg.inv(identity_minus_q)\n",
    "    print(N)\n",
    "    absorbProbs=np.dot(N,r)[0]\n",
    "    print(\"absorb probrabs:\",np.dot(N,r))\n",
    "    \n",
    "    denom=1\n",
    "    \n",
    "    while True:\n",
    "        numerator=absorbProbs*denom\n",
    "        if nearIntegerArray(numerator):\n",
    "            aslist=np.rint(numerator).astype(int).tolist()\n",
    "            aslist.append(denom)\n",
    "            return aslist\n",
    "        denom+=1"
   ]
  },
  {
   "cell_type": "code",
   "execution_count": 25,
   "metadata": {},
   "outputs": [],
   "source": [
    "import numpy as np\n",
    "def cofactors(A):\n",
    "#     U,sigma,Vt = np.linalg.svd(A)\n",
    "#     N = len(sigma)\n",
    "#     g = np.tile(sigma,N)\n",
    "#     g[::(N+1)] = 1\n",
    "#     G = np.diag(-(-1)**N*np.product(np.reshape(g,(N,N)),1)) \n",
    "#     return np.rint(U @ G @ Vt).astype(int)\n",
    "    return np.rint(np.linalg.inv(A)*np.linalg.det(A)).astype(int)"
   ]
  },
  {
   "cell_type": "code",
   "execution_count": 9,
   "metadata": {},
   "outputs": [
    {
     "data": {
      "text/plain": [
       "[[2.0, -2.0, 2.0], [2.0, 3.0, -3.0], [0.0, 10.0, 0.0]]"
      ]
     },
     "execution_count": 9,
     "metadata": {},
     "output_type": "execute_result"
    }
   ],
   "source": [
    "cofactors(np.array([[3,0,2],[2,0,-2],[0,1,1]])).tolist()"
   ]
  },
  {
   "cell_type": "code",
   "execution_count": 16,
   "metadata": {},
   "outputs": [
    {
     "data": {
      "text/plain": [
       "array([[ -65482., -118365.,   18247.,  -90568.],\n",
       "       [1259938., 2668011.,  -10997., -162712.],\n",
       "       [-620072., -461846., -619418., -145140.],\n",
       "       [2418014., 1487569.,   59877., -177684.]])"
      ]
     },
     "execution_count": 16,
     "metadata": {},
     "output_type": "execute_result"
    }
   ],
   "source": [
    "cofactors(np.array([[40,23,-3,-39],[19,-34,3,19],[-203,-4,103,23],[635,27,19,8]],dtype= int))"
   ]
  },
  {
   "cell_type": "code",
   "execution_count": 24,
   "metadata": {},
   "outputs": [
    {
     "data": {
      "text/plain": [
       "array([[-124183857,  -45690866,  -86286717,  -44499297],\n",
       "       [ 174656267,  107473001,  168295912, -410773193],\n",
       "       [ 109029502,   96143191, -263903553, -470000913],\n",
       "       [ 281650058,  -64571406,  236008863,  109226873]])"
      ]
     },
     "execution_count": 24,
     "metadata": {},
     "output_type": "execute_result"
    }
   ],
   "source": [
    "adjugate(np.array([[403,234,-334,-393],[2090,-90,99,939],[-203,-433,403,23],[635,279,49,88]]))"
   ]
  },
  {
   "cell_type": "code",
   "execution_count": 30,
   "metadata": {},
   "outputs": [
    {
     "data": {
      "text/plain": [
       "array([[ -297369586437,  -121618524594,   719249848296, -5031577653963,\n",
       "         4494652880991],\n",
       "       [  -28214660824,   291213078550,  -234321723304, -1288828913152,\n",
       "          877342978206],\n",
       "       [  233407827506,   366772734658, -7242437662294, -5935756895728,\n",
       "         5238976460502],\n",
       "       [  671847268071,   -64604154078,  3926958576636,  1446702240015,\n",
       "        -4039401593187],\n",
       "       [-1785282508177,  -440360921606, -1036792836862,  7640810728517,\n",
       "        -7118600318967]])"
      ]
     },
     "execution_count": 30,
     "metadata": {},
     "output_type": "execute_result"
    }
   ],
   "source": [
    "adjugate(np.array([[1403,2734,-1334,-1393,1200],[2090,-9960,9917,9319,1293],[-1203,-1433,1403,2131,1102],[6135,2719,4199,1898,2931],[2301,2913,4991,1001,3919]]))"
   ]
  },
  {
   "cell_type": "code",
   "execution_count": 221,
   "metadata": {},
   "outputs": [],
   "source": [
    "import numpy as np\n",
    "# Best numpy implementation\n",
    "def solution(m):\n",
    "    m = np.rint(np.array(m)).astype(int)\n",
    "    size=m.shape[0]\n",
    "    numTermStates=0\n",
    "    print(m.shape)\n",
    "    for i in range(size):\n",
    "        if not np.any(m[i]):\n",
    "            numTermStates+=1\n",
    "            m[i,i]=1\n",
    "    m_sumAxis=m.sum(axis=1)\n",
    "    \n",
    "    m_denom=np.lcm.reduce(m_sumAxis)\n",
    "    print(\"M SUM AXIS:\",m_sumAxis,m_denom)\n",
    "#     //\n",
    "#     [:, np.newaxis]\n",
    "\n",
    "    m_numer= m_denom*m/m_sumAxis[:, np.newaxis]\n",
    "    # m_numer=np.rint(m_numer)\n",
    "    print(m_numer,numTermStates)\n",
    "    \n",
    "    q_numer=m_numer[:size-numTermStates,:size-numTermStates]\n",
    "    r_numer=m_numer[:size-numTermStates,size-numTermStates:]\n",
    "    q_denom=r_denom=m_denom\n",
    "    q_numer,q_denom, q_gcd=normalise(q_numer,q_denom)\n",
    "    r_numer,r_denom, r_gcd=normalise(r_numer,r_denom)\n",
    "    print(\"q:\",q_numer,q_denom)\n",
    "    print(\"r:\",r_numer,r_denom)\n",
    "    \n",
    "    identity_minus_q_numer= np.identity(q_numer.shape[0]).astype(int)*q_denom-q_numer\n",
    "    \n",
    "    print(\"i - q:\",identity_minus_q_numer)\n",
    "    N_denom= np.linalg.det(identity_minus_q_numer)\n",
    "    N_denom= int(round(N_denom))\n",
    "    N_numer= np.linalg.inv(identity_minus_q_numer)*N_denom*q_denom\n",
    "    N_numer= np.rint(N_numer).astype(int)\n",
    "    N_numer,N_denom, N_gcd=normalise(N_numer,N_denom)\n",
    "    \n",
    "    print(\"N:\",N_numer,N_denom)\n",
    "    absorb_numer=np.dot(N_numer,r_numer)[0]\n",
    "    absorb_denom=N_denom*r_denom\n",
    "    print(\"ABSORB NUMER:\",absorb_numer)\n",
    "#     absorb_test_gcd=np.rint(np.append(absorb_numer,absorb_denom)).astype(int)\n",
    "    \n",
    "    absorb_numer,absorb_denom,absorb_gcd = normalise(absorb_numer,absorb_denom)\n",
    "    print(\"test:\",absorb_gcd)\n",
    "#     absorb_gcd=np.gcd.reduce(absorb_test_gcd)\n",
    "#     absorb_numer=absorb_numer/absorb_gcd\n",
    "#     absorb_denom=absorb_denom/absorb_gcd\n",
    "    print(\"absorb numer:\",absorb_numer,absorb_gcd,absorb_denom)\n",
    "    \n",
    "    aslist=absorb_numer.astype(int).tolist()\n",
    "    aslist.append(int(round(absorb_denom)))\n",
    "    return aslist\n",
    "        \n",
    "def normalise(numer,denom):\n",
    "#     numer=np.rint(numer)\n",
    "#     denom=round(denom)\n",
    "    test_gcd=np.append(numer,denom).astype(int)\n",
    "    gcd=np.gcd.reduce(test_gcd)\n",
    "    numer=numer/gcd\n",
    "    denom=denom/gcd\n",
    "    return numer,denom,gcd\n"
   ]
  },
  {
   "cell_type": "code",
   "execution_count": null,
   "metadata": {},
   "outputs": [],
   "source": [
    "import numpy as np\n",
    "# Best numpy implementation\n",
    "def solution(m):\n",
    "    m = np.rint(np.array(m)).astype(int)\n",
    "    size=m.shape[0]\n",
    "    numTermStates=0\n",
    "    print(m.shape)\n",
    "    for i in range(size):\n",
    "        if not np.any(m[i]):\n",
    "            numTermStates+=1\n",
    "            m[i,i]=1\n",
    "    m_sumAxis=m.sum(axis=1)\n",
    "    \n",
    "    m_denom=np.lcm.reduce(m_sumAxis)\n",
    "    print(\"M SUM AXIS:\",m_sumAxis,m_denom)\n",
    "#     //\n",
    "#     [:, np.newaxis]\n",
    "\n",
    "    m_numer= m_denom*m/m_sumAxis[:, np.newaxis]\n",
    "    # m_numer=np.rint(m_numer)\n",
    "    print(m_numer,numTermStates)\n",
    "    \n",
    "    q_numer=m_numer[:size-numTermStates,:size-numTermStates]\n",
    "    r_numer=m_numer[:size-numTermStates,size-numTermStates:]\n",
    "    q_denom=r_denom=m_denom\n",
    "    q_numer,q_denom, q_gcd=normalise(q_numer,q_denom)\n",
    "    r_numer,r_denom, r_gcd=normalise(r_numer,r_denom)\n",
    "    print(\"q:\",q_numer,q_denom)\n",
    "    print(\"r:\",r_numer,r_denom)\n",
    "    \n",
    "    identity_minus_q_numer= np.identity(q_numer.shape[0]).astype(int)*q_denom-q_numer\n",
    "    \n",
    "    print(\"i - q:\",identity_minus_q_numer)\n",
    "    N_denom= np.linalg.det(identity_minus_q_numer)\n",
    "    N_denom= int(round(N_denom))\n",
    "    N_numer= np.linalg.inv(identity_minus_q_numer)*N_denom*q_denom\n",
    "    N_numer= np.rint(N_numer).astype(int)\n",
    "    N_numer,N_denom, N_gcd=normalise(N_numer,N_denom)\n",
    "    \n",
    "    print(\"N:\",N_numer,N_denom)\n",
    "    absorb_numer=np.dot(N_numer,r_numer)[0]\n",
    "    absorb_denom=N_denom*r_denom\n",
    "    print(\"ABSORB NUMER:\",absorb_numer)\n",
    "#     absorb_test_gcd=np.rint(np.append(absorb_numer,absorb_denom)).astype(int)\n",
    "    \n",
    "    absorb_numer,absorb_denom,absorb_gcd = normalise(absorb_numer,absorb_denom)\n",
    "    print(\"test:\",absorb_gcd)\n",
    "#     absorb_gcd=np.gcd.reduce(absorb_test_gcd)\n",
    "#     absorb_numer=absorb_numer/absorb_gcd\n",
    "#     absorb_denom=absorb_denom/absorb_gcd\n",
    "    print(\"absorb numer:\",absorb_numer,absorb_gcd,absorb_denom)\n",
    "    \n",
    "    aslist=absorb_numer.astype(int).tolist()\n",
    "    aslist.append(int(round(absorb_denom)))\n",
    "    return aslist\n",
    "        \n",
    "def normalise(numer,denom):\n",
    "#     numer=np.rint(numer)\n",
    "#     denom=round(denom)\n",
    "    test_gcd=np.append(numer,denom).astype(int)\n",
    "    gcd=np.gcd.reduce(test_gcd)\n",
    "    numer=numer/gcd\n",
    "    denom=denom/gcd\n",
    "    return numer,denom,gcd\n"
   ]
  },
  {
   "cell_type": "code",
   "execution_count": null,
   "metadata": {},
   "outputs": [],
   "source": [
    "import numpy as np\n",
    "def solution(m):\n",
    "    m = np.rint(np.array(m)).astype(np.int64)\n",
    "    size=m.shape[0]\n",
    "    numTermStates=0\n",
    "    print_safe(m.shape)\n",
    "    for i in range(size):\n",
    "        if not np.any(m[i]):\n",
    "            numTermStates+=1\n",
    "            m[i,i]=1\n",
    "    m_sumAxis=m.sum(axis=1)\n",
    "    \n",
    "    m_denom=np.lcm.reduce(m_sumAxis)\n",
    "    print_safe(\"M SUM AXIS:\",m_sumAxis,m_denom)\n",
    "#     //\n",
    "#     [:, np.newaxis]\n",
    "    m_numer= m_denom*m/m_sumAxis[:, np.newaxis]\n",
    "    m_numer,m_denom,m_gcd=normalise(m_numer,m_denom)\n",
    "    print_safe(m_numer,numTermStates)\n",
    "    \n",
    "    q_numer=m_numer[:size-numTermStates,:size-numTermStates]\n",
    "    r_numer=m_numer[:size-numTermStates,size-numTermStates:]\n",
    "    q_denom=r_denom=m_denom\n",
    "    q_numer,q_denom, q_gcd=normalise(q_numer,q_denom)\n",
    "    r_numer,r_denom, r_gcd=normalise(r_numer,r_denom)\n",
    "    print_safe(\"q:\",q_numer,q_denom)\n",
    "    print_safe(\"r:\",r_numer,r_denom)\n",
    "    \n",
    "    identity_minus_q_numer= np.identity(q_numer.shape[0],dtype=np.int64)*q_denom-q_numer\n",
    "    identity_minus_q_numer,identity_minus_q_denom,identity_minus_q_gcd= normalise(identity_minus_q_numer,q_denom)\n",
    "    \n",
    "    print_safe(\"i - q:\",identity_minus_q_numer)\n",
    "    N_denom= int(round(np.linalg.det(identity_minus_q_numer)))\n",
    "    # print_safe(\"ADJUGATE APPROX:\",np.linalg.inv(identity_minus_q_numer)*N_denom)\n",
    "    # print_safe(\"ADJUGATE PRECISE:\",np.rint(np.linalg.inv(identity_minus_q_numer)*N_denom).astype(int))\n",
    "    # print_safe(\"Error:\",np.rint(np.linalg.inv(identity_minus_q_numer)*N_denom)-np.linalg.inv(identity_minus_q_numer)*N_denom)\n",
    "    float_adjugate=np.linalg.inv(identity_minus_q_numer)*N_denom\n",
    "    adjugate=np.rint(float_adjugate).astype(np.int64)\n",
    "    print_safe(\"Error\",adjugate-float_adjugate)\n",
    "    N_numer= adjugate*identity_minus_q_denom\n",
    "    # N_denom=sp.Matrix(identity_minus_q_numer).determinant()\n",
    "    # N_numer=sp.Matrix(identity_minus_q_numer).adjugate()*q_denom\n",
    "    # Writing a more precise \n",
    "\n",
    "    N_numer,N_denom, N_gcd=normalise(N_numer,N_denom)\n",
    "    print_safe(\"N:\",N_numer,N_numer.dtype,N_gcd,N_denom)\n",
    "    absorb_numer=np.dot(N_numer,r_numer)[0]\n",
    "\n",
    "    absorb_denom=long(N_denom)*r_denom\n",
    "    print_safe(\"denoms:\",N_denom,r_denom,\"->\",absorb_denom)\n",
    "    \n",
    "#     absorb_test_gcd=np.rint(np.append(absorb_numer,absorb_denom)).astype(int)\n",
    "    \n",
    "    absorb_numer,absorb_denom,absorb_gcd = normalise(absorb_numer,absorb_denom)\n",
    "    # print_safe(\"test:\",absorb_gcd)\n",
    "#     absorb_gcd=np.gcd.reduce(absorb_test_gcd)\n",
    "#     absorb_numer=absorb_numer/absorb_gcd\n",
    "#     absorb_denom=absorb_denom/absorb_gcd\n",
    "    print_safe(\"absorb numer:\",absorb_numer,absorb_gcd,absorb_denom)\n",
    "    \n",
    "    aslist=absorb_numer.astype(np.int64).tolist()\n",
    "    aslist.append(int(round(absorb_denom)))\n",
    "    return aslist\n",
    "        \n",
    "def normalise(numer,denom):\n",
    "    # numer=np.rint(numer).astype(int)\n",
    "#     denom=round(denom)\n",
    "    test_gcd=np.append(numer,denom)\n",
    "    gcd=np.gcd.reduce(test_gcd)\n",
    "    numer=numer/gcd\n",
    "    denom=long(denom//gcd)\n",
    "    return numer,denom,gcd\n",
    "  \n",
    "def print_safe(*args):\n",
    "  if(True):\n",
    "    print(args) \n",
    "  # \n",
    "\n",
    "\n",
    "    # solution([[0, 1, 203, 0, 0, 1]\n",
    "    #       , [20, 0, 320, 3, 2, 0]\n",
    "    #       , [4, 34, 12, 0, 3, 0]\n",
    "    #       , [0, 0, 0, 0, 0, 0]\n",
    "    #       , [0, 0, 0, 0, 0, 0]\n",
    "    #       , [0, 0, 0, 0, 0, 0]])"
   ]
  }
 ],
 "metadata": {
  "kernelspec": {
   "display_name": "Python 3",
   "language": "python",
   "name": "python3"
  },
  "language_info": {
   "codemirror_mode": {
    "name": "ipython",
    "version": 3
   },
   "file_extension": ".py",
   "mimetype": "text/x-python",
   "name": "python",
   "nbconvert_exporter": "python",
   "pygments_lexer": "ipython3",
   "version": "3.7.4"
  }
 },
 "nbformat": 4,
 "nbformat_minor": 2
}
