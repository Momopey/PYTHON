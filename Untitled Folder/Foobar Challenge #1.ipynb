{
 "cells": [
  {
   "cell_type": "markdown",
   "metadata": {},
   "source": [
    "Prison Labor Dodgers\n",
    "====================\n",
    "\n",
    "Commander Lambda is all about efficiency, including using her bunny prisoners for manual labor. But no one's been properly monitoring the labor shifts for a while, and they've gotten quite mixed up. You've been given the task of fixing them, but after you wrote up new shifts, you realized that some prisoners had been transferred to a different block and aren't available for their assigned shifts. And manually sorting through each shift list to compare against prisoner block lists will take forever - remember, Commander Lambda loves efficiency!\n",
    "\n",
    "Given two almost identical lists of prisoner IDs x and y where one of the lists contains an additional ID, write a function solution(x, y) that compares the lists and returns the additional ID.\n",
    "\n",
    "For example, given the lists x = [13, 5, 6, 2, 5] and y = [5, 2, 5, 13], the function solution(x, y) would return 6 because the list x contains the integer 6 and the list y doesn't. Given the lists x = [14, 27, 1, 4, 2, 50, 3, 1] and y = [2, 4, -4, 3, 1, 1, 14, 27, 50], the function solution(x, y) would return -4 because the list y contains the integer -4 and the list x doesn't.\n",
    "\n",
    "In each test case, the lists x and y will always contain n non-unique integers where n is at least 1 but never more than 99, and one of the lists will contain an additional unique integer which should be returned by the function.  The same n non-unique integers will be present on both lists, but they might appear in a different order, like in the examples above. Commander Lambda likes to keep her numbers short, so every prisoner ID will be between -1000 and 1000.\n"
   ]
  },
  {
   "cell_type": "markdown",
   "metadata": {},
   "source": [
    "Test cases\n",
    "==========\n",
    "Your code should pass the following test cases.\n",
    "Note that it may also be run against hidden test cases not shown here.\n",
    "\n",
    "-- Python cases --\n",
    "Input:\n",
    "solution.solution([13, 5, 6, 2, 5], [5, 2, 5, 13])\n",
    "Output:\n",
    "    6\n",
    "\n",
    "Input:\n",
    "solution.solution([14, 27, 1, 4, 2, 50, 3, 1], [2, 4, -4, 3, 1, 1, 14, 27, 50])\n",
    "Output:\n",
    "    -4\n",
    "\n",
    "-- Java cases --\n",
    "Input:\n",
    "Solution.solution({13, 5, 6, 2, 5}, {5, 2, 5, 13})\n",
    "Output:\n",
    "    6\n",
    "\n",
    "Input:\n",
    "Solution.solution({14, 27, 1, 4, 2, 50, 3, 1}, {2, 4, -4, 3, 1, 1, 14, 27, 50})\n",
    "Output:\n",
    "    -4"
   ]
  },
  {
   "cell_type": "code",
   "execution_count": 14,
   "metadata": {},
   "outputs": [],
   "source": [
    "def solution(x, y):\n",
    "    while len(x)>0:\n",
    "        value = x.pop()\n",
    "        if value in y:\n",
    "            y.remove(value)\n",
    "        else:\n",
    "            return value\n",
    "    return y[0]"
   ]
  },
  {
   "cell_type": "code",
   "execution_count": 18,
   "metadata": {},
   "outputs": [
    {
     "name": "stdout",
     "output_type": "stream",
     "text": [
      "6\n"
     ]
    }
   ],
   "source": []
  },
  {
   "cell_type": "code",
   "execution_count": 36,
   "metadata": {},
   "outputs": [],
   "source": [
    "def solution(x, y):\n",
    "    shorter=[] \n",
    "    longer=[]\n",
    "    if(len(x)>len(y)):\n",
    "        longer = x\n",
    "        shorter = y\n",
    "    else:\n",
    "        longer = y\n",
    "        shorter = x\n",
    "    #Iterate through longer, so that there is a higher chance of early breakout    \n",
    "    while len(longer)>0:\n",
    "        value = longer.pop()\n",
    "#         indexInShorter= shorter.index(value)\n",
    "        if value in shorter:\n",
    "            shorter.remove(value)\n",
    "        else:\n",
    "            return value\n",
    "    return shorter[0]"
   ]
  },
  {
   "cell_type": "code",
   "execution_count": 37,
   "metadata": {},
   "outputs": [
    {
     "name": "stdout",
     "output_type": "stream",
     "text": [
      "6\n"
     ]
    }
   ],
   "source": [
    "print(solution([13, 5, 6, 2, 5], [5, 2, 5, 13]))"
   ]
  },
  {
   "cell_type": "code",
   "execution_count": 40,
   "metadata": {},
   "outputs": [],
   "source": [
    "def solution_1(x, y):\n",
    "    shorter=[] \n",
    "    longer=[]\n",
    "    if(len(x)>len(y)):\n",
    "        longer = x\n",
    "        shorter = y\n",
    "    else:\n",
    "        longer = y\n",
    "        shorter = x\n",
    "    #Iterate through longer, so that there is a higher chance of early breakout    \n",
    "    while len(longer)>0:\n",
    "        value = longer.pop()\n",
    "        try:\n",
    "            indexInShorter= shorter.index(value)\n",
    "            del shorter[indexInShorter]\n",
    "        except ValueError:\n",
    "            return value\n",
    "        \n",
    "    #This should be impossible to reach....\n",
    "    return shorter[0]"
   ]
  },
  {
   "cell_type": "code",
   "execution_count": 41,
   "metadata": {},
   "outputs": [
    {
     "name": "stdout",
     "output_type": "stream",
     "text": [
      "6\n"
     ]
    }
   ],
   "source": [
    "print(solution_1([13, 5, 6, 2, 5], [5, 2, 5, 13]))"
   ]
  },
  {
   "cell_type": "code",
   "execution_count": 42,
   "metadata": {},
   "outputs": [],
   "source": [
    "def solution_2(x, y):\n",
    "    shorter=[] \n",
    "    longer=[]\n",
    "    if(len(x)>len(y)):\n",
    "        longer = x\n",
    "        shorter = y\n",
    "    else:\n",
    "        longer = y\n",
    "        shorter = x\n",
    "    shorter.sort()\n",
    "    longer.sort()\n",
    "    #Iterate through until there isn't a match\n",
    "    for index in range(len(shorter)):\n",
    "        if(shorter[index]!=longer[index]):\n",
    "            return longer[index]"
   ]
  },
  {
   "cell_type": "code",
   "execution_count": 191,
   "metadata": {},
   "outputs": [],
   "source": [
    "def solution_3(x,y):\n",
    "    x+=y\n",
    "    setSeen=set()\n",
    "    for value in x:\n",
    "        if(value in setSeen):\n",
    "            setSeen.remove(value)\n",
    "        else:\n",
    "            setSeen.add(value)\n",
    "    return list(setSeen)[0]"
   ]
  },
  {
   "cell_type": "code",
   "execution_count": 193,
   "metadata": {},
   "outputs": [
    {
     "name": "stdout",
     "output_type": "stream",
     "text": [
      "-4\n"
     ]
    }
   ],
   "source": [
    "print(solution_3([14, 27, 1, 4, 2, 50, 3, 1], [2, 4, -4, 3, 1, 1, 14, 27, 50]))"
   ]
  },
  {
   "cell_type": "code",
   "execution_count": 246,
   "metadata": {},
   "outputs": [],
   "source": [
    "import random\n",
    "import time\n",
    "# Testing code\n",
    "# def generateTestExample():\n",
    "#     lengthOfTest= random.randint(1,99)\n",
    "#     x=[]\n",
    "#     for i in range(lengthOfTest):\n",
    "#         x.append(random.randint(-1000,1000))\n",
    "#     return x\n",
    "#     print(lengthOfTest)\n",
    "def boundedGenerator(generator,Range):\n",
    "    value= generator()\n",
    "    while not value in Range:\n",
    "        value= generator()\n",
    "    return value\n",
    "\n",
    "def generateTestExample(lengthGenerator,valueGenerator):\n",
    "    \n",
    "    lengthOfTest= lengthGenerator()\n",
    "    x=[]\n",
    "    for i in range(lengthOfTest):\n",
    "        x.append(boundedGenerator(valueGenerator,range(-1000,1000)))\n",
    "    y= x.copy()\n",
    "    extraValue= boundedGenerator(valueGenerator,range(-1000,1000))\n",
    "    extraIndex= random.randint(0,len(x))\n",
    "    y.insert(extraIndex,extraValue)\n",
    "    random.shuffle(y)\n",
    "    \n",
    "    if(random.randint(0,1)==1):\n",
    "        return [x,y]\n",
    "    else:\n",
    "        return [y,x]\n",
    "    print(lengthOfTest)\n",
    "\n",
    "def generateTestExamples(lengthGenerator, valueGenerator, numTests):\n",
    "    D=[]\n",
    "    for i in range(numTests):\n",
    "        D.append(generateTestExample(lengthGenerator,valueGenerator))\n",
    "    return D\n",
    "\n",
    "def testSpeedOfFunction(solutionLambda,numTests,length):\n",
    "    lengthGen=lambda: length\n",
    "    valueGen= lambda: random.randint(-1000,1000)\n",
    "    \n",
    "    data= generateTestExamples(lengthGen,valueGen,numTests)\n",
    "    return testSpeedOfSolutionWithData(solutionLambda,data)\n",
    "    \n",
    "def testSpeedOfSolutionWithData(solutionLambda,data):\n",
    "    start = time.time()\n",
    "    for i in range(len(data)):\n",
    "        out= solutionLambda(*data[i])\n",
    "    end = time.time()\n",
    "    return (end - start)/len(data)\n",
    "    \n",
    "def testBigOForm(solutionLambda,numTests,sizeSteps,numSteps):\n",
    "#     datas=[]\n",
    "    results=[]\n",
    "    valueGen= lambda: random.randint(-1000,1000)\n",
    "    for i in range(numSteps):\n",
    "        lengthGen=lambda: sizeSteps*(i+1)\n",
    "        data=generateTestExamples(lengthGen,valueGen,numTests)\n",
    "        time= testSpeedOfSolutionWithData(solutionLambda,data)\n",
    "        results.append([sizeSteps*(i+1),time])\n",
    "    return np.array(results)\n",
    "    \n",
    "        \n",
    "    "
   ]
  },
  {
   "cell_type": "code",
   "execution_count": 215,
   "metadata": {},
   "outputs": [
    {
     "data": {
      "text/plain": [
       "[[988, -601, -310, -762, 869, 439, -829, -274, -447],\n",
       " [-310, 988, -274, -447, -762, 439, -829, -375, 869, -601]]"
      ]
     },
     "execution_count": 215,
     "metadata": {},
     "output_type": "execute_result"
    }
   ],
   "source": [
    "#I love breaking the laws of functional programming ...\n",
    "lengthGen=lambda: random.randint(1,10)\n",
    "valueGen= lambda: random.randint(-1000,1000)\n",
    "generateTestExample(lengthGen,valueGen)"
   ]
  },
  {
   "cell_type": "code",
   "execution_count": 232,
   "metadata": {},
   "outputs": [],
   "source": []
  },
  {
   "cell_type": "code",
   "execution_count": 252,
   "metadata": {},
   "outputs": [
    {
     "data": {
      "text/plain": [
       "[<matplotlib.lines.Line2D at 0x7fc24d92e9d0>]"
      ]
     },
     "execution_count": 252,
     "metadata": {},
     "output_type": "execute_result"
    },
    {
     "data": {
      "image/png": "[encoded data removed]",
      "text/plain": [
       "<Figure size 432x288 with 1 Axes>"
      ]
     },
     "metadata": {
      "needs_background": "light"
     },
     "output_type": "display_data"
    }
   ],
   "source": [
    "import numpy as np\n",
    "import matplotlib.pyplot as plt\n",
    "bigOdata= testBigOForm(solution_1,10000,10,25)\n",
    "plt.plot(bigOdata[:,0],bigOdata[:,1])"
   ]
  },
  {
   "cell_type": "code",
   "execution_count": 253,
   "metadata": {},
   "outputs": [
    {
     "data": {
      "text/plain": [
       "[<matplotlib.lines.Line2D at 0x7fc22e4408d0>]"
      ]
     },
     "execution_count": 253,
     "metadata": {},
     "output_type": "execute_result"
    },
    {
     "data": {
      "image/png": "[encoded data removed]",
      "text/plain": [
       "<Figure size 432x288 with 1 Axes>"
      ]
     },
     "metadata": {
      "needs_background": "light"
     },
     "output_type": "display_data"
    }
   ],
   "source": [
    "bigOdata= testBigOForm(solution_2,10000,10,25)\n",
    "plt.plot(bigOdata[:,0],bigOdata[:,1])"
   ]
  },
  {
   "cell_type": "code",
   "execution_count": 254,
   "metadata": {},
   "outputs": [
    {
     "data": {
      "text/plain": [
       "[<matplotlib.lines.Line2D at 0x7fc230c28250>]"
      ]
     },
     "execution_count": 254,
     "metadata": {},
     "output_type": "execute_result"
    },
    {
     "data": {
      "image/png": "[encoded data removed]",
      "text/plain": [
       "<Figure size 432x288 with 1 Axes>"
      ]
     },
     "metadata": {
      "needs_background": "light"
     },
     "output_type": "display_data"
    }
   ],
   "source": [
    "bigOdata= testBigOForm(solution_3,10000,10,25)\n",
    "plt.plot(bigOdata[:,0],bigOdata[:,1])"
   ]
  },
  {
   "cell_type": "code",
   "execution_count": 224,
   "metadata": {},
   "outputs": [
    {
     "name": "stdout",
     "output_type": "stream",
     "text": [
      "Solution 1 with n=10 :2.970240116119385e-06\n",
      "Solution 1 with n=10 :5.981049537658691e-06\n",
      "Solution 1 with n=10 :1.4349632263183594e-05\n",
      "Solution 1 with n=10 :3.1128771305084225e-05\n"
     ]
    }
   ],
   "source": [
    "print(\"Solution 1 with n=10 :\"+ str(testSpeedOfFunction(solution_1,100000,10)))\n",
    "print(\"Solution 1 with n=10 :\"+ str(testSpeedOfFunction(solution_1,100000,30)))\n",
    "print(\"Solution 1 with n=10 :\"+ str(testSpeedOfFunction(solution_1,100000,60)))\n",
    "print(\"Solution 1 with n=10 :\"+ str(testSpeedOfFunction(solution_1,100000,100)))"
   ]
  },
  {
   "cell_type": "code",
   "execution_count": 213,
   "metadata": {},
   "outputs": [
    {
     "name": "stdout",
     "output_type": "stream",
     "text": [
      "Solution 2 with n=10 :1.2638497352600099e-06\n",
      "Solution 2 with n=10 :2.9283595085144042e-06\n",
      "Solution 2 with n=10 :6.1879897117614745e-06\n",
      "Solution 2 with n=10 :1.0882079601287842e-05\n"
     ]
    }
   ],
   "source": [
    "print(\"Solution 2 with n=10 :\"+ str(testSpeedOfFunction(solution_2,100000,10)))\n",
    "print(\"Solution 2 with n=10 :\"+ str(testSpeedOfFunction(solution_2,100000,30)))\n",
    "print(\"Solution 2 with n=10 :\"+ str(testSpeedOfFunction(solution_2,100000,60)))\n",
    "print(\"Solution 2 with n=10 :\"+ str(testSpeedOfFunction(solution_2,100000,100)))"
   ]
  },
  {
   "cell_type": "code",
   "execution_count": 214,
   "metadata": {},
   "outputs": [
    {
     "name": "stdout",
     "output_type": "stream",
     "text": [
      "Solution 3 with n=10 :2.356259822845459e-06\n",
      "Solution 3 with n=10 :6.1730194091796875e-06\n",
      "Solution 3 with n=10 :1.1444189548492432e-05\n",
      "Solution 3 with n=10 :1.8624398708343505e-05\n"
     ]
    }
   ],
   "source": [
    "print(\"Solution 3 with n=10 :\"+ str(testSpeedOfFunction(solution_3,100000,10)))\n",
    "print(\"Solution 3 with n=10 :\"+ str(testSpeedOfFunction(solution_3,100000,30)))\n",
    "print(\"Solution 3 with n=10 :\"+ str(testSpeedOfFunction(solution_3,100000,60)))\n",
    "print(\"Solution 3 with n=10 :\"+ str(testSpeedOfFunction(solution_3,100000,100)))"
   ]
  },
  {
   "cell_type": "code",
   "execution_count": 216,
   "metadata": {},
   "outputs": [],
   "source": [
    "import matplotlib"
   ]
  },
  {
   "cell_type": "code",
   "execution_count": null,
   "metadata": {},
   "outputs": [],
   "source": []
  }
 ],
 "metadata": {
  "kernelspec": {
   "display_name": "Python 3",
   "language": "python",
   "name": "python3"
  },
  "language_info": {
   "codemirror_mode": {
    "name": "ipython",
    "version": 3
   },
   "file_extension": ".py",
   "mimetype": "text/x-python",
   "name": "python",
   "nbconvert_exporter": "python",
   "pygments_lexer": "ipython3",
   "version": "3.7.4"
  }
 },
 "nbformat": 4,
 "nbformat_minor": 2
}
